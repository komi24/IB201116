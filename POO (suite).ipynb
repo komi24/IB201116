{
 "cells": [
  {
   "cell_type": "code",
   "execution_count": 26,
   "metadata": {},
   "outputs": [],
   "source": [
    "from functools import total_ordering \n",
    "\"\"\"\n",
    "    Faire une classe Car\n",
    "    attribut:\n",
    "        - color: initialisé avec un paramètre obligatoire de __init__\n",
    "        - maximum_speed: initialisé avec un paramètre optionnel (default 120)\n",
    "        - brand: initialisé avec un paramètre\n",
    "        - origin: initialisé à FRANCE\n",
    "        - position: initialisée à 0\n",
    "    methode:\n",
    "        - move_forward: augmente la position de 1\n",
    "        - move_backward: dimininue la position de 1\n",
    "        - get_position: renvoie la position\n",
    "        \n",
    "    créer deux voitures que vous faites avancer et reculer\n",
    "\"\"\"\n",
    "@total_ordering\n",
    "class Car:\n",
    "    def __init__(self, color_param, brand_param, owner_param, max_speed_param = 120):\n",
    "        self.color = color_param\n",
    "        self.brand = brand_param\n",
    "        self.max_speed = max_speed_param\n",
    "        self.origin = \"FRANCE\"\n",
    "        self.position = 0\n",
    "        self.owner = owner_param\n",
    "        \n",
    "    def get_color(self):\n",
    "        return self.color\n",
    "\n",
    "    def move_forward(self):\n",
    "        self.position += 1\n",
    "    \n",
    "    def move_backward(self):\n",
    "        self.position -= 1\n",
    "        \n",
    "    def get_position(self):\n",
    "        return self.position\n",
    "    \n",
    "    def __repr__(self):\n",
    "        return f\"Car: {self.brand} - position : {self.position}\"\n",
    "    \n",
    "    def __gt__(self, other):\n",
    "        return self.position > other.position\n",
    "    \n",
    "    def __eq__(self, other):\n",
    "        return self.position == other.position\n",
    "    \n",
    "class Person:\n",
    "    def __init__(self, name=\"Martin\", age=20):\n",
    "        self.age = age\n",
    "        self.name = name\n",
    "        \n",
    "    def __lt__(self, other):\n",
    "        return self.age < other.age\n",
    "\n",
    "    def __eq__(self, other):\n",
    "        return self.age == other.age\n",
    "\n",
    "class Account:\n",
    "    def __init__(self, balance=100000):\n",
    "        self.__balance = balance\n",
    "        \n",
    "    def withdraw(self, amount):\n",
    "        assert amount > 0, f\"amount should be positive.(Instead : {amount})\"\n",
    "        self.__balance -= amount\n",
    "    \n",
    "    def deposit(self, amount):\n",
    "        assert amount > 0, f\"amount should be positive.(Instead : {amount})\"\n",
    "        self.__balance += amount\n",
    "        \n",
    "    def get_balance(self):\n",
    "        return self.__balance\n",
    "    \n"
   ]
  },
  {
   "cell_type": "code",
   "execution_count": 7,
   "metadata": {},
   "outputs": [
    {
     "name": "stdout",
     "output_type": "stream",
     "text": [
      "Car: Twingo - position : 1\n",
      "Car: Maybach - position : 1\n",
      "Vroum !!!\n"
     ]
    },
    {
     "ename": "AttributeError",
     "evalue": "'Car' object has no attribute 'rugir'",
     "output_type": "error",
     "traceback": [
      "\u001b[1;31m---------------------------------------------------------------------------\u001b[0m",
      "\u001b[1;31mAttributeError\u001b[0m                            Traceback (most recent call last)",
      "\u001b[1;32m<ipython-input-7-1fd4b134ea41>\u001b[0m in \u001b[0;36m<module>\u001b[1;34m\u001b[0m\n\u001b[0;32m     20\u001b[0m \u001b[1;33m\u001b[0m\u001b[0m\n\u001b[0;32m     21\u001b[0m \u001b[0mune_voiture_de_sport\u001b[0m\u001b[1;33m.\u001b[0m\u001b[0mrugir\u001b[0m\u001b[1;33m(\u001b[0m\u001b[1;33m)\u001b[0m\u001b[1;33m\u001b[0m\u001b[1;33m\u001b[0m\u001b[0m\n\u001b[1;32m---> 22\u001b[1;33m \u001b[0mune_voiture\u001b[0m\u001b[1;33m.\u001b[0m\u001b[0mrugir\u001b[0m\u001b[1;33m(\u001b[0m\u001b[1;33m)\u001b[0m\u001b[1;33m\u001b[0m\u001b[1;33m\u001b[0m\u001b[0m\n\u001b[0m",
      "\u001b[1;31mAttributeError\u001b[0m: 'Car' object has no attribute 'rugir'"
     ]
    }
   ],
   "source": [
    "class SportCar(Car):\n",
    "    def __init__(self, color_param, brand_param, owner_param, max_speed_param = 120):\n",
    "        Car.__init__(self, color_param, brand_param, owner_param, 400)\n",
    "        self.rallye_history = []\n",
    "        \n",
    "    def move_backward(self):\n",
    "        self.position -= 10\n",
    "        \n",
    "    def rugir(self):\n",
    "        print(\"Vroum !!!\")\n",
    "\n",
    "une_voiture_de_sport = SportCar(\"black\", \"Maybach\", Person())\n",
    "une_voiture = Car(\"yellow\", \"Twingo\", Person())\n",
    "\n",
    "une_voiture.move_forward()\n",
    "une_voiture_de_sport.move_forward()\n",
    "\n",
    "print(une_voiture)\n",
    "print(une_voiture_de_sport)\n",
    "\n",
    "une_voiture_de_sport.rugir()\n",
    "une_voiture.rugir()"
   ]
  },
  {
   "cell_type": "code",
   "execution_count": 9,
   "metadata": {},
   "outputs": [
    {
     "name": "stdout",
     "output_type": "stream",
     "text": [
      "400\n",
      "120\n"
     ]
    }
   ],
   "source": [
    "print(une_voiture_de_sport.max_speed)\n",
    "print(une_voiture.max_speed)"
   ]
  },
  {
   "cell_type": "code",
   "execution_count": 11,
   "metadata": {},
   "outputs": [],
   "source": [
    "# Une classe Client qui hérite de Person et qui possède un Account\n",
    "# Une classe AccountManager qui hérite de Person et qui possède une liste de client"
   ]
  },
  {
   "cell_type": "code",
   "execution_count": 17,
   "metadata": {},
   "outputs": [
    {
     "name": "stdout",
     "output_type": "stream",
     "text": [
      "[client: Violette]\n",
      "manager: Olivier\n"
     ]
    }
   ],
   "source": [
    "class Client(Person):\n",
    "    def __init__(self, name, age, account=Account()):\n",
    "        Person.__init__(self, name, age)\n",
    "        self.account = account\n",
    "        self.manager = None\n",
    "        \n",
    "    def __repr__(self):\n",
    "        return f\"client: {self.name}\"\n",
    "        \n",
    "class AccountManager(Person):\n",
    "    def __init__(self, name, age, clients=[]):\n",
    "        Person.__init__(self, name, age)\n",
    "        self.client_list = clients\n",
    "        for client in clients:\n",
    "            client.manager = self\n",
    "\n",
    "    def __repr__(self):\n",
    "        return f\"manager: {self.name}\"\n",
    "        \n",
    "c1 = Client(\"Violette\", \"Dubois\")\n",
    "am1 = AccountManager(\"Olivier\", \"Dupont\", [c1])\n",
    "\n",
    "print(am1.client_list)\n",
    "print(c1.manager)"
   ]
  },
  {
   "cell_type": "code",
   "execution_count": 28,
   "metadata": {},
   "outputs": [
    {
     "data": {
      "text/plain": [
       "202.0"
      ]
     },
     "execution_count": 28,
     "metadata": {},
     "output_type": "execute_result"
    }
   ],
   "source": [
    "# creer une classe CheckingAccount qui hérite de Account. \n",
    "# Elle a en plus un attribut overdraft et sa methode withdraw permet de descendre justqu'au decouvert \n",
    "class CheckingAccount(Account):\n",
    "    def __init__(self, balance, overdraft=-100):\n",
    "        Account.__init__(self, balance)\n",
    "        self.overdraft = overdraft\n",
    "        \n",
    "    def withdraw(self, amount):\n",
    "        assert self.get_balance() - amount > self.overdraft, \"Pas assez d'argent\"\n",
    "        Account.withdraw(self, amount)\n",
    "\n",
    "        \n",
    "compte = CheckingAccount(200)\n",
    "compte.withdraw(210)\n",
    "compte.get_balance()\n",
    "\n",
    "# creer une classe SavingAccount qui hérite de Account.\n",
    "# Elle a en plus un attribut interest et une methode next_year qui rajoute les interet sur la balance\n",
    "class CheckingAccount(Account):\n",
    "    def __init__(self, balance, interest_rate=0.01):\n",
    "        Account.__init__(self, balance)\n",
    "        self.interest_rate = interest_rate\n",
    "        \n",
    "    def withdraw(self, amount):\n",
    "        assert self.get_balance() - amount > 0, \"Pas assez d'argent\"\n",
    "        Account.withdraw(self, amount)\n",
    "    \n",
    "    def next_year(self):\n",
    "        self.deposit(self.interest_rate * self.get_balance())\n",
    "\n",
    "        \n",
    "compte = CheckingAccount(200)\n",
    "compte.next_year()\n",
    "compte.get_balance()\n"
   ]
  },
  {
   "cell_type": "code",
   "execution_count": 18,
   "metadata": {},
   "outputs": [],
   "source": [
    "\"\"\"\n",
    "Board:\n",
    "    attributs:\n",
    "        size\n",
    "        liste_pompiers\n",
    "        liste_feux\n",
    "    methodes:\n",
    "        run # execute un tours pour tous les pompiers\n",
    "        \n",
    "Pompier:\n",
    "    attributs:\n",
    "        position\n",
    "        is_busy\n",
    "    methodes:\n",
    "        deplacer_vers\n",
    "        eteindre(feu) # commencer à eteindre un feu et y rester pendant 5 tours\n",
    "        \n",
    "Feu:\n",
    "    attributs:\n",
    "        position\n",
    "        \n",
    "Les pompiers doivent éteindres tous les feux\n",
    "Un pompier se déplace selon 4 directions (haut, bas, gauche, droite)\n",
    "Il ne peut y avoir qu'un pompier sur un feu lors de l'extinction\n",
    "Il faut 5 tours à un pompier pour eteindre un feu\n",
    "\n",
    "\n",
    "Aide:\n",
    "1- Un pompier - un feu\n",
    "2- Un pompier - plusieurs feux (enchainement chronologique - eteindre - feux suivant)\n",
    "3- plusieurs pompiers - plusieurs feux (repartition des feux entre pompiers)\n",
    "\"\"\""
   ]
  },
  {
   "cell_type": "code",
   "execution_count": 20,
   "metadata": {},
   "outputs": [
    {
     "name": "stdout",
     "output_type": "stream",
     "text": [
      "hello\n"
     ]
    },
    {
     "data": {
      "text/plain": [
       "1"
      ]
     },
     "execution_count": 20,
     "metadata": {},
     "output_type": "execute_result"
    }
   ],
   "source": [
    "import os\n",
    "\n",
    "print(\"hello\")\n",
    "os.system(\"clear\")"
   ]
  },
  {
   "cell_type": "code",
   "execution_count": null,
   "metadata": {},
   "outputs": [],
   "source": []
  }
 ],
 "metadata": {
  "kernelspec": {
   "display_name": "Python 3",
   "language": "python",
   "name": "python3"
  },
  "language_info": {
   "codemirror_mode": {
    "name": "ipython",
    "version": 3
   },
   "file_extension": ".py",
   "mimetype": "text/x-python",
   "name": "python",
   "nbconvert_exporter": "python",
   "pygments_lexer": "ipython3",
   "version": "3.7.3"
  }
 },
 "nbformat": 4,
 "nbformat_minor": 4
}
