{
 "cells": [
  {
   "cell_type": "code",
   "execution_count": 7,
   "metadata": {},
   "outputs": [
    {
     "name": "stdout",
     "output_type": "stream",
     "text": [
      "avant\n",
      "après\n"
     ]
    }
   ],
   "source": [
    "from tkinter import Tk, Button, Label, LEFT, RIGHT, TOP, BOTTOM\n",
    "\n",
    "\n",
    "fen = Tk()\n",
    "\n",
    "label = Label(fen, text=\"Bonjour\")\n",
    "label2 = Label(fen, text=\"Hello\")\n",
    "button1 = Button(fen, text=\"Bouton 1\")\n",
    "button2 = Button(fen, text=\"Bouton 2\")\n",
    "\n",
    "\n",
    "button2.pack()\n",
    "button1.pack(side=LEFT)\n",
    "label.pack(side=BOTTOM)\n",
    "label2.pack()\n",
    "\n",
    "print(\"avant\")\n",
    "fen.mainloop()\n",
    "print(\"après\")\n"
   ]
  },
  {
   "cell_type": "code",
   "execution_count": 8,
   "metadata": {},
   "outputs": [
    {
     "name": "stdout",
     "output_type": "stream",
     "text": [
      "avant\n",
      "après\n"
     ]
    }
   ],
   "source": [
    "from tkinter import Tk, Button, Label, LEFT, RIGHT, TOP, BOTTOM\n",
    "\n",
    "\n",
    "fen = Tk()\n",
    "\n",
    "button1 = Button(fen, text=\"Bouton 1\")\n",
    "button2 = Button(fen, text=\"Bouton 2\")\n",
    "\n",
    "\n",
    "button1.grid(column=0, row=0)\n",
    "button2.grid(column=1, row=1)\n",
    "\n",
    "print(\"avant\")\n",
    "fen.mainloop()\n",
    "print(\"après\")\n"
   ]
  },
  {
   "cell_type": "code",
   "execution_count": 14,
   "metadata": {},
   "outputs": [
    {
     "name": "stdout",
     "output_type": "stream",
     "text": [
      "avant\n",
      "après\n"
     ]
    }
   ],
   "source": [
    "from tkinter import Tk, Button, Label, LEFT, RIGHT, TOP, BOTTOM\n",
    "\n",
    "\n",
    "fen = Tk()\n",
    "\n",
    "button1 = Button(fen, text=\"Bouton 1\", padx=2, pady=10, height=16, width=9)\n",
    "button2 = Button(fen, text=\"Bouton 2\")\n",
    "\n",
    "\n",
    "button1.grid(column=0, row=0)\n",
    "button2.grid(column=1, row=1)\n",
    "\n",
    "print(\"avant\")\n",
    "fen.mainloop()\n",
    "print(\"après\")\n"
   ]
  },
  {
   "cell_type": "code",
   "execution_count": 26,
   "metadata": {},
   "outputs": [
    {
     "name": "stdout",
     "output_type": "stream",
     "text": [
      "avant\n",
      "après\n"
     ]
    }
   ],
   "source": [
    "from tkinter import Tk, Frame, Button, Label, LEFT, RIGHT, TOP, BOTTOM\n",
    "\n",
    "\n",
    "fen = Tk()\n",
    "\n",
    "label = Label(fen, text=\"Bonjour\")\n",
    "label.pack()\n",
    "\n",
    "frame = Frame(fen)\n",
    "frame.pack()\n",
    "\n",
    "button = Button(fen, text=\"Entrer\", height=5)\n",
    "button.pack(fill=\"both\")\n",
    "\n",
    "for i in range(9):\n",
    "    button1 = Button(frame, text=f\"Bouton {i}\", height=5, width=9)\n",
    "    button1.grid(column=i%3, row=i//3, padx=4, pady=4)\n",
    "\n",
    "print(\"avant\")\n",
    "fen.mainloop()\n",
    "print(\"après\")\n"
   ]
  },
  {
   "cell_type": "code",
   "execution_count": null,
   "metadata": {},
   "outputs": [],
   "source": []
  }
 ],
 "metadata": {
  "kernelspec": {
   "display_name": "Python 3",
   "language": "python",
   "name": "python3"
  },
  "language_info": {
   "codemirror_mode": {
    "name": "ipython",
    "version": 3
   },
   "file_extension": ".py",
   "mimetype": "text/x-python",
   "name": "python",
   "nbconvert_exporter": "python",
   "pygments_lexer": "ipython3",
   "version": "3.7.3"
  }
 },
 "nbformat": 4,
 "nbformat_minor": 4
}
