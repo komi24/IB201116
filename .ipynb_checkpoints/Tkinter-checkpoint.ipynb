{
 "cells": [
  {
   "cell_type": "code",
   "execution_count": 27,
   "metadata": {},
   "outputs": [
    {
     "name": "stdout",
     "output_type": "stream",
     "text": [
      "avant\n",
      "après\n"
     ]
    }
   ],
   "source": [
    "from tkinter import Tk, Button, Label, LEFT, RIGHT, TOP, BOTTOM\n",
    "\n",
    "\n",
    "fen = Tk()\n",
    "\n",
    "label = Label(fen, text=\"Bonjour\")\n",
    "label2 = Label(fen, text=\"Hello\")\n",
    "button1 = Button(fen, text=\"Bouton 1\")\n",
    "button2 = Button(fen, text=\"Bouton 2\")\n",
    "\n",
    "\n",
    "button2.pack()\n",
    "button1.pack(side=LEFT)\n",
    "label.pack(side=BOTTOM)\n",
    "label2.pack()\n",
    "\n",
    "print(\"avant\")\n",
    "fen.mainloop()\n",
    "print(\"après\")\n"
   ]
  },
  {
   "cell_type": "code",
   "execution_count": 29,
   "metadata": {},
   "outputs": [
    {
     "name": "stdout",
     "output_type": "stream",
     "text": [
      "avant\n",
      "après\n"
     ]
    }
   ],
   "source": [
    "from tkinter import Tk, Button, Label, LEFT, RIGHT, TOP, BOTTOM\n",
    "\n",
    "\n",
    "fen = Tk()\n",
    "\n",
    "button1 = Button(fen, text=\"Bouton 1\")\n",
    "button2 = Button(fen, text=\"Bouton 2\")\n",
    "\n",
    "\n",
    "button1.grid(column=10, row=10)\n",
    "button2.grid(column=11, row=11)\n",
    "\n",
    "print(\"avant\")\n",
    "fen.mainloop()\n",
    "print(\"après\")\n"
   ]
  },
  {
   "cell_type": "code",
   "execution_count": 14,
   "metadata": {},
   "outputs": [
    {
     "name": "stdout",
     "output_type": "stream",
     "text": [
      "avant\n",
      "après\n"
     ]
    }
   ],
   "source": [
    "from tkinter import Tk, Button, Label, LEFT, RIGHT, TOP, BOTTOM\n",
    "\n",
    "\n",
    "fen = Tk()\n",
    "\n",
    "button1 = Button(fen, text=\"Bouton 1\", padx=2, pady=10, height=16, width=9)\n",
    "button2 = Button(fen, text=\"Bouton 2\")\n",
    "\n",
    "\n",
    "button1.grid(column=0, row=0)\n",
    "button2.grid(column=1, row=1)\n",
    "\n",
    "print(\"avant\")\n",
    "fen.mainloop()\n",
    "print(\"après\")\n"
   ]
  },
  {
   "cell_type": "code",
   "execution_count": 58,
   "metadata": {},
   "outputs": [
    {
     "ename": "SyntaxError",
     "evalue": "invalid syntax (<ipython-input-58-35ff405f5b60>, line 36)",
     "output_type": "error",
     "traceback": [
      "\u001b[1;36m  File \u001b[1;32m\"<ipython-input-58-35ff405f5b60>\"\u001b[1;36m, line \u001b[1;32m36\u001b[0m\n\u001b[1;33m    print(\"avant\")from tkinter import Tk, Frame, Button, Label, LEFT, RIGHT, TOP, BOTTOM\u001b[0m\n\u001b[1;37m                     ^\u001b[0m\n\u001b[1;31mSyntaxError\u001b[0m\u001b[1;31m:\u001b[0m invalid syntax\n"
     ]
    }
   ],
   "source": [
    "from tkinter import Tk, Frame, Button, Label, LEFT, RIGHT, TOP, BOTTOM\n",
    "\n",
    "\n",
    "fen = Tk()\n",
    "\n",
    "label = Label(fen, text=\"Calculator\", height=5)\n",
    "label.pack()\n",
    "\n",
    "button = Button(fen, text=\"=\", height=5)\n",
    "button.pack(side=BOTTOM, fill=\"both\")\n",
    "\n",
    "button_ce = Button(fen, text=\"CE\", width=9)\n",
    "button_ce.pack(side=RIGHT, fill=\"both\")\n",
    "\n",
    "frame_op = Frame(fen)\n",
    "frame_op.pack(side=RIGHT)\n",
    "\n",
    "for op in (\"+\", \"-\", \"*\", \"/\"):\n",
    "    button1 = Button(frame_op, text=op, height=5, width=9)\n",
    "    button1.pack()\n",
    "\n",
    "frame_nb = Frame(fen)\n",
    "frame_nb.pack()\n",
    "\n",
    "for i in range(9):\n",
    "    button1 = Button(frame_nb, text=f\"{i+1}\", height=5, width=9)\n",
    "    button1.grid(row=i%3, column=i//3)\n",
    "\n",
    "button_zero = Button(frame_nb, text=\"0\", height=5, width=9)\n",
    "button_zero.grid(row=3, column=0)\n",
    "\n",
    "button_dot = Button(frame_nb, text=\".\", height=5)\n",
    "button_dot.grid(row=3, column=1, columnspan=2, sticky=\"ew\")\n",
    "\n",
    "\n",
    "print(\"avant\")\n",
    "fen.mainloop()\n",
    "print(\"après\")\n"
   ]
  },
  {
   "cell_type": "code",
   "execution_count": 70,
   "metadata": {},
   "outputs": [
    {
     "name": "stdout",
     "output_type": "stream",
     "text": [
      "avant\n",
      "1\n",
      "4\n",
      "2\n",
      "6\n",
      "3\n",
      "7\n",
      "9\n",
      "après\n"
     ]
    }
   ],
   "source": [
    "from tkinter import Tk, Frame, Button, Label, LEFT, RIGHT, TOP, BOTTOM, StringVar\n",
    "\n",
    "class MonBouton(Button):\n",
    "    pass\n",
    "    \n",
    "\n",
    "fen = Tk()\n",
    "\n",
    "resultat = StringVar()\n",
    "resultat.set(\"0\")\n",
    "\n",
    "def change_resultat(e):\n",
    "    print(e.widget.cget(\"text\"))\n",
    "    resultat.set(e.widget.cget(\"text\"))\n",
    "\n",
    "label = Label(fen, textvariable=resultat, height=5)\n",
    "label.pack()\n",
    "\n",
    "button = Button(fen, text=\"=\", height=5)\n",
    "button.bind(\"<Button-1>\", change_resultat)\n",
    "button.pack(side=BOTTOM, fill=\"both\")\n",
    "\n",
    "button_ce = Button(fen, text=\"CE\", width=9)\n",
    "button_ce.pack(side=RIGHT, fill=\"both\")\n",
    "\n",
    "frame_op = Frame(fen)\n",
    "frame_op.pack(side=RIGHT)\n",
    "\n",
    "for op in (\"+\", \"-\", \"*\", \"/\"):\n",
    "    button1 = Button(frame_op, text=op, height=5, width=9)\n",
    "    button1.bind(\"<Button-1>\", change_resultat)\n",
    "    button1.pack()\n",
    "\n",
    "frame_nb = Frame(fen)\n",
    "frame_nb.pack()\n",
    "\n",
    "for i in range(9):\n",
    "    button1 = Button(frame_nb, text=f\"{i+1}\", height=5, width=9)\n",
    "    button1.bind(\"<Button-1>\", change_resultat)\n",
    "    button1.grid(row=i%3, column=i//3)\n",
    "\n",
    "button_zero = Button(fen, text=\"0\", height=5, width=9)\n",
    "button_zero.pack(side=LEFT)\n",
    "\n",
    "button_dot = Button(fen, text=\".\", height=5)\n",
    "button_dot.pack(fill=\"both\")\n",
    "\n",
    "resultat.set(\"15\")\n",
    "print(\"avant\")\n",
    "fen.mainloop()\n",
    "print(\"après\")\n",
    "\n"
   ]
  },
  {
   "cell_type": "code",
   "execution_count": 4,
   "metadata": {},
   "outputs": [],
   "source": [
    "from tkinter import Tk, Frame, Button, Label, LEFT, RIGHT, TOP, BOTTOM, StringVar\n",
    "\n",
    "\n",
    "class CalculatriceUI:\n",
    "    def __init__(self):\n",
    "        self.fen = Tk()\n",
    "\n",
    "        self.resultat = StringVar()\n",
    "        self.resultat.set(\"0\")\n",
    "\n",
    "        self.label = Label(self.fen, textvariable=self.resultat, height=5)\n",
    "        self.label.pack()\n",
    "\n",
    "        self.button = Button(self.fen, text=\"=\", height=5)\n",
    "        self.button.bind(\"<Button-1>\", self.handle_entry)\n",
    "        self.button.pack(side=BOTTOM, fill=\"both\")\n",
    "\n",
    "        self.button_ce = Button(self.fen, text=\"CE\", width=9)\n",
    "        self.button_ce.bind(\"<Button-1>\", self.handle_clear_entry)\n",
    "        self.button_ce.pack(side=RIGHT, fill=\"both\")\n",
    "\n",
    "        self.frame_op = Frame(self.fen)\n",
    "        self.frame_op.pack(side=RIGHT)\n",
    "\n",
    "        for op in (\"+\", \"-\", \"*\", \"/\"):\n",
    "            button1 = Button(self.frame_op, text=op, height=5, width=9)\n",
    "            button1.bind(\"<Button-1>\", self.handle_operator)\n",
    "            button1.pack()\n",
    "\n",
    "        self.frame_nb = Frame(self.fen)\n",
    "        self.frame_nb.pack()\n",
    "\n",
    "        for i in range(9):\n",
    "            button1 = Button(self.frame_nb, text=f\"{i+1}\", height=5, width=9)\n",
    "            button1.bind(\"<Button-1>\", self.handle_number)\n",
    "            button1.grid(row=i%3, column=i//3)\n",
    "\n",
    "        self.button_zero = Button(self.fen, text=\"0\", height=5, width=9)\n",
    "        self.button_zero.pack(side=LEFT)\n",
    "\n",
    "        self.button_dot = Button(self.fen, text=\".\", height=5)\n",
    "        self.button_dot.bind(\"<Button-1>\", self.handle_dot)\n",
    "        self.button_dot.pack(fill=\"both\")\n",
    "\n",
    "                \n",
    "    def run(self):\n",
    "        self.fen.mainloop()\n",
    "        \n",
    "    def handle_entry(self, e):\n",
    "        print(e.widget.cget(\"text\"))        \n",
    "\n",
    "    def handle_clear_entry(self, e):\n",
    "        print(e.widget.cget(\"text\"))\n",
    "\n",
    "    def handle_operator(self, e):\n",
    "        print(e.widget.cget(\"text\"))\n",
    " \n",
    "    def handle_number(self, e):\n",
    "        print(e.widget.cget(\"text\"))\n",
    " \n",
    "    def handle_dot(self, e):\n",
    "        print(e.widget.cget(\"text\"))\n"
   ]
  },
  {
   "cell_type": "code",
   "execution_count": 12,
   "metadata": {},
   "outputs": [],
   "source": [
    "class Calculatrice(CalculatriceUI):\n",
    "    def __init__(self):\n",
    "        CalculatriceUI.__init__(self)\n",
    "        self.previous_operand = 0\n",
    "        self.current_operand = 0\n",
    "        self.current_operator = \"+\"\n",
    "        \n",
    "    def handle_entry(self, e):\n",
    "        print(e.widget.cget(\"text\"))        \n",
    "\n",
    "    def handle_clear_entry(self, e):\n",
    "        print(e.widget.cget(\"text\"))\n",
    "\n",
    "    def handle_operator(self, e):\n",
    "        print(e.widget.cget(\"text\"))\n",
    " \n",
    "    def handle_number(self, e):\n",
    "        a = self.current_operand\n",
    "        print(a)\n",
    "        res = self.resultat.get() + e.widget.cget(\"text\")\n",
    "        self.resultat.set(res)\n",
    "        self.current_operand = int(res)\n",
    " \n",
    "    def handle_dot(self, e):\n",
    "        print(e.widget.cget(\"text\"))\n"
   ]
  },
  {
   "cell_type": "code",
   "execution_count": 13,
   "metadata": {},
   "outputs": [
    {
     "name": "stdout",
     "output_type": "stream",
     "text": [
      "0\n",
      "1\n"
     ]
    },
    {
     "ename": "AttributeError",
     "evalue": "'Calculatrice' object has no attribute 'run'",
     "output_type": "error",
     "traceback": [
      "\u001b[1;31m---------------------------------------------------------------------------\u001b[0m",
      "\u001b[1;31mAttributeError\u001b[0m                            Traceback (most recent call last)",
      "\u001b[1;32m<ipython-input-13-82072f8a54e7>\u001b[0m in \u001b[0;36m<module>\u001b[1;34m\u001b[0m\n\u001b[0;32m      1\u001b[0m \u001b[0mcalc\u001b[0m \u001b[1;33m=\u001b[0m \u001b[0mCalculatrice\u001b[0m\u001b[1;33m(\u001b[0m\u001b[1;33m)\u001b[0m\u001b[1;33m\u001b[0m\u001b[1;33m\u001b[0m\u001b[0m\n\u001b[0;32m      2\u001b[0m \u001b[1;33m\u001b[0m\u001b[0m\n\u001b[1;32m----> 3\u001b[1;33m \u001b[0mcalc\u001b[0m\u001b[1;33m.\u001b[0m\u001b[0mrun\u001b[0m\u001b[1;33m(\u001b[0m\u001b[1;33m)\u001b[0m\u001b[1;33m\u001b[0m\u001b[1;33m\u001b[0m\u001b[0m\n\u001b[0m\u001b[0;32m      4\u001b[0m \u001b[1;33m\u001b[0m\u001b[0m\n\u001b[0;32m      5\u001b[0m \"\"\"\n",
      "\u001b[1;31mAttributeError\u001b[0m: 'Calculatrice' object has no attribute 'run'"
     ]
    }
   ],
   "source": [
    "calc = Calculatrice()\n",
    "\n",
    "calc.run()\n",
    "\n",
    "\"\"\"\n",
    "1- Afficher 14 quand on tape sur 1 puis sur 4 et mettre à jour self.current_operand à chaque fois\n",
    "2- Quand on clic sur un opérateur, on effectue l'operation précédente (ex: 0 + 14), \n",
    "    et on le sauvegarde dans previous operand\n",
    "3- Quand on clic sur Entry (=), on effectue l'operation précédente (ex: 0 + 14),\n",
    "    et on affiche le résultat dans le label\n",
    "4- Quand on clic sur CE, on réinitialise la calculatrice\n",
    "\"\"\""
   ]
  },
  {
   "cell_type": "code",
   "execution_count": null,
   "metadata": {},
   "outputs": [],
   "source": []
  }
 ],
 "metadata": {
  "kernelspec": {
   "display_name": "Python 3",
   "language": "python",
   "name": "python3"
  },
  "language_info": {
   "codemirror_mode": {
    "name": "ipython",
    "version": 3
   },
   "file_extension": ".py",
   "mimetype": "text/x-python",
   "name": "python",
   "nbconvert_exporter": "python",
   "pygments_lexer": "ipython3",
   "version": "3.7.3"
  }
 },
 "nbformat": 4,
 "nbformat_minor": 4
}
