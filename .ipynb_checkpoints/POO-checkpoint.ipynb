{
 "cells": [
  {
   "cell_type": "code",
   "execution_count": 29,
   "metadata": {},
   "outputs": [],
   "source": [
    "class Person:\n",
    "    def __init__(self, prenom, age=42):\n",
    "        self.firstname = prenom\n",
    "        self.lastname = \"Coelho\"\n",
    "        self.age = age\n",
    "        \n",
    "    def greet(self):\n",
    "        print(f\"Hello, I am {self.firstname}. I am {self.age} y.o.\")\n"
   ]
  },
  {
   "cell_type": "code",
   "execution_count": 30,
   "metadata": {},
   "outputs": [
    {
     "name": "stdout",
     "output_type": "stream",
     "text": [
      "Hello, I am Daniela. I am 42 y.o.\n",
      "Hello, I am Norah. I am 36 y.o.\n"
     ]
    }
   ],
   "source": [
    "someone = Person(\"Daniela\")\n",
    "someone_else = Person(\"Norah\", 36)\n",
    "# someone_else.firstname = \"Norah\"\n",
    "# print(une_personne.firstname)\n",
    "# mon_voisin = Personne()\n",
    "# print(mon_voisin.firstname)\n",
    "# print(une_personne == mon_voisin)\n",
    "\n",
    "# une_personne.firstname = \"Joao\"\n",
    "# print(une_personne.firstname)\n",
    "# print(mon_voisin.firstname)\n",
    "\n",
    "someone.greet()\n",
    "someone_else.greet()"
   ]
  },
  {
   "cell_type": "code",
   "execution_count": 9,
   "metadata": {},
   "outputs": [
    {
     "name": "stdout",
     "output_type": "stream",
     "text": [
      "<__main__.Personne object at 0x000002D4535F1400>\n"
     ]
    }
   ],
   "source": [
    "print(une_personne)"
   ]
  },
  {
   "cell_type": "code",
   "execution_count": 10,
   "metadata": {},
   "outputs": [
    {
     "data": {
      "text/plain": [
       "{'firstname': 'Daniela', 'lastname': 'Coelho', 'age': 30}"
      ]
     },
     "execution_count": 10,
     "metadata": {},
     "output_type": "execute_result"
    }
   ],
   "source": [
    "def creer_personne():\n",
    "    return {\"firstname\": \"Daniela\", \"lastname\": \"Coelho\", \"age\": 30 }\n",
    "\n",
    "creer_personne()"
   ]
  },
  {
   "cell_type": "code",
   "execution_count": null,
   "metadata": {},
   "outputs": [],
   "source": [
    "\"\"\"\n",
    "    Faire une classe Car\n",
    "    attribut:\n",
    "        - color: initialisé avec un paramètre \n",
    "        - maximum_speed: initialisé avec un paramètre optionnel (default 120)\n",
    "        - brand: initialisé avec un paramètre\n",
    "        - origin: initialisé à FRANCE\n",
    "        - position: initialisée à 0\n",
    "    methode:\n",
    "        - move_forward: augmente la position de 1\n",
    "        - move_backward: dimininue la position de 1\n",
    "        - get_position: renvoie la position\n",
    "        \n",
    "    créer deux voitures que vous faites avancer et reculer\n",
    "\"\"\"\n"
   ]
  }
 ],
 "metadata": {
  "kernelspec": {
   "display_name": "Python 3",
   "language": "python",
   "name": "python3"
  },
  "language_info": {
   "codemirror_mode": {
    "name": "ipython",
    "version": 3
   },
   "file_extension": ".py",
   "mimetype": "text/x-python",
   "name": "python",
   "nbconvert_exporter": "python",
   "pygments_lexer": "ipython3",
   "version": "3.7.3"
  }
 },
 "nbformat": 4,
 "nbformat_minor": 4
}
