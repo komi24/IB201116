{
 "cells": [
  {
   "cell_type": "code",
   "execution_count": 35,
   "metadata": {},
   "outputs": [],
   "source": [
    "class Person:\n",
    "    def __init__(self, prenom, age=42):\n",
    "        self.firstname = prenom\n",
    "        self.lastname = \"Coelho\"\n",
    "        self.age = age\n",
    "        \n",
    "    def greet(self):\n",
    "        print(f\"Hello, I am {self.firstname}. I am {self.age} y.o.\")\n"
   ]
  },
  {
   "cell_type": "code",
   "execution_count": 36,
   "metadata": {},
   "outputs": [
    {
     "name": "stdout",
     "output_type": "stream",
     "text": [
      "Hello, I am Daniela. I am 42 y.o.\n",
      "Hello, I am Norah. I am 36 y.o.\n"
     ]
    }
   ],
   "source": [
    "someone = Person(\"Daniela\")\n",
    "someone_else = Person(\"Norah\", 36)\n",
    "# someone_else.firstname = \"Norah\"\n",
    "# print(une_personne.firstname)\n",
    "# mon_voisin = Personne()\n",
    "# print(mon_voisin.firstname)\n",
    "# print(une_personne == mon_voisin)\n",
    "\n",
    "# une_personne.firstname = \"Joao\"\n",
    "# print(une_personne.firstname)\n",
    "# print(mon_voisin.firstname)\n",
    "\n",
    "someone.greet()\n",
    "someone_else.greet()"
   ]
  },
  {
   "cell_type": "code",
   "execution_count": 9,
   "metadata": {},
   "outputs": [
    {
     "name": "stdout",
     "output_type": "stream",
     "text": [
      "<__main__.Personne object at 0x000002D4535F1400>\n"
     ]
    }
   ],
   "source": [
    "print(une_personne)"
   ]
  },
  {
   "cell_type": "code",
   "execution_count": 10,
   "metadata": {},
   "outputs": [
    {
     "data": {
      "text/plain": [
       "{'firstname': 'Daniela', 'lastname': 'Coelho', 'age': 30}"
      ]
     },
     "execution_count": 10,
     "metadata": {},
     "output_type": "execute_result"
    }
   ],
   "source": [
    "def creer_personne():\n",
    "    return {\"firstname\": \"Daniela\", \"lastname\": \"Coelho\", \"age\": 30 }\n",
    "\n",
    "creer_personne()"
   ]
  },
  {
   "cell_type": "code",
   "execution_count": 58,
   "metadata": {},
   "outputs": [],
   "source": [
    "from functools import total_ordering \n",
    "\"\"\"\n",
    "    Faire une classe Car\n",
    "    attribut:\n",
    "        - color: initialisé avec un paramètre obligatoire de __init__\n",
    "        - maximum_speed: initialisé avec un paramètre optionnel (default 120)\n",
    "        - brand: initialisé avec un paramètre\n",
    "        - origin: initialisé à FRANCE\n",
    "        - position: initialisée à 0\n",
    "    methode:\n",
    "        - move_forward: augmente la position de 1\n",
    "        - move_backward: dimininue la position de 1\n",
    "        - get_position: renvoie la position\n",
    "        \n",
    "    créer deux voitures que vous faites avancer et reculer\n",
    "\"\"\"\n",
    "@total_ordering\n",
    "class Car:\n",
    "    def __init__(self, color_param, brand_param, max_speed_param = 120):\n",
    "        self.color = color_param\n",
    "        self.brand = brand_param\n",
    "        self.max_speed = max_speed_param\n",
    "        self.origin = \"FRANCE\"\n",
    "        self.position = 0\n",
    "        \n",
    "    def get_color(self):\n",
    "        return self.color\n",
    "\n",
    "    def move_forward(self):\n",
    "        self.position += 1\n",
    "    \n",
    "    def move_backward(self):\n",
    "        self.position -= 1\n",
    "        \n",
    "    def get_position(self):\n",
    "        return self.position\n",
    "    \n",
    "    def __repr__(self):\n",
    "        return f\"Car: {self.brand} - position : {self.position}\"\n",
    "    \n",
    "    def __gt__(self, other):\n",
    "        return self.position > other.position\n",
    "    \n",
    "    def __eq__(self, other):\n",
    "        return self.position == other.position"
   ]
  },
  {
   "cell_type": "code",
   "execution_count": 59,
   "metadata": {},
   "outputs": [
    {
     "name": "stdout",
     "output_type": "stream",
     "text": [
      "black FRANCE\n",
      "rouge\n",
      "Car: Mercedes - position : 0\n",
      "Car: Mercedes - position : 1\n"
     ]
    }
   ],
   "source": [
    "my_car = Car(\"black\", \"Mercedes\")\n",
    "another_car = Car(\"rouge\", \"Renault\")\n",
    "\n",
    "print(my_car.color, my_car.origin)\n",
    "print(another_car.color)\n",
    "print(my_car)\n",
    "my_car.move_forward()\n",
    "print(my_car)"
   ]
  },
  {
   "cell_type": "code",
   "execution_count": 60,
   "metadata": {},
   "outputs": [
    {
     "data": {
      "text/plain": [
       "False"
      ]
     },
     "execution_count": 60,
     "metadata": {},
     "output_type": "execute_result"
    }
   ],
   "source": [
    "my_car < another_car\n"
   ]
  },
  {
   "cell_type": "code",
   "execution_count": null,
   "metadata": {},
   "outputs": [],
   "source": [
    "\"\"\"\n",
    "    classe Person name et age\n",
    "    et un relation d'ordre sur l'age\n",
    "\"\"\"\n"
   ]
  }
 ],
 "metadata": {
  "kernelspec": {
   "display_name": "Python 3",
   "language": "python",
   "name": "python3"
  },
  "language_info": {
   "codemirror_mode": {
    "name": "ipython",
    "version": 3
   },
   "file_extension": ".py",
   "mimetype": "text/x-python",
   "name": "python",
   "nbconvert_exporter": "python",
   "pygments_lexer": "ipython3",
   "version": "3.7.3"
  }
 },
 "nbformat": 4,
 "nbformat_minor": 4
}
