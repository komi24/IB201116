{
 "cells": [
  {
   "cell_type": "code",
   "execution_count": 2,
   "metadata": {},
   "outputs": [
    {
     "name": "stdout",
     "output_type": "stream",
     "text": [
      "[115, 18, 3]\n",
      "[114, 13]\n"
     ]
    }
   ],
   "source": [
    "def extract_leaders(arr):\n",
    "    leaders = []\n",
    "    for i, nb in enumerate(arr):\n",
    "        if nb > sum(arr[i+1:]):\n",
    "            leaders.append(nb)\n",
    "\n",
    "    return leaders\n",
    "\n",
    "print(extract_leaders([115,3,4,18,2,3]))\n",
    "print(extract_leaders([115,3,114,8,2,13]))\n"
   ]
  },
  {
   "cell_type": "code",
   "execution_count": 5,
   "metadata": {},
   "outputs": [
    {
     "name": "stdout",
     "output_type": "stream",
     "text": [
      "Bonjour monsieur\n",
      "Bonjour monsieur\n",
      "None\n",
      "<function dire_bonjour at 0x000001FF618CFE18>\n"
     ]
    }
   ],
   "source": [
    "def dire_bonjour():\n",
    "    print(\"Bonjour monsieur\")\n",
    "    \n",
    "dire_bonjour()\n",
    "print(dire_bonjour())\n",
    "print(dire_bonjour) # ici on affiche la fonction comme une variable"
   ]
  },
  {
   "cell_type": "code",
   "execution_count": 6,
   "metadata": {},
   "outputs": [
    {
     "name": "stdout",
     "output_type": "stream",
     "text": [
      "12\n"
     ]
    }
   ],
   "source": [
    "def addition(a, b):\n",
    "    return a + b\n",
    "\n",
    "print(addition(4,8))"
   ]
  },
  {
   "cell_type": "code",
   "execution_count": 20,
   "metadata": {},
   "outputs": [
    {
     "name": "stdout",
     "output_type": "stream",
     "text": [
      "Bonjour Toto\n"
     ]
    },
    {
     "ename": "TypeError",
     "evalue": "unsupported operand type(s) for +: 'NoneType' and 'str'",
     "output_type": "error",
     "traceback": [
      "\u001b[1;31m---------------------------------------------------------------------------\u001b[0m",
      "\u001b[1;31mTypeError\u001b[0m                                 Traceback (most recent call last)",
      "\u001b[1;32m<ipython-input-20-ab569b6ebe16>\u001b[0m in \u001b[0;36m<module>\u001b[1;34m\u001b[0m\n\u001b[0;32m      6\u001b[0m     \u001b[0mprint\u001b[0m\u001b[1;33m(\u001b[0m\u001b[1;34mf\"Bonjour {name}\"\u001b[0m\u001b[1;33m)\u001b[0m\u001b[1;33m\u001b[0m\u001b[1;33m\u001b[0m\u001b[0m\n\u001b[0;32m      7\u001b[0m \u001b[1;33m\u001b[0m\u001b[0m\n\u001b[1;32m----> 8\u001b[1;33m \u001b[0mdire_bonjour\u001b[0m\u001b[1;33m(\u001b[0m\u001b[1;34m\"Toto\"\u001b[0m\u001b[1;33m)\u001b[0m \u001b[1;33m+\u001b[0m \u001b[1;34m\". A demain\"\u001b[0m\u001b[1;33m\u001b[0m\u001b[1;33m\u001b[0m\u001b[0m\n\u001b[0m",
      "\u001b[1;31mTypeError\u001b[0m: unsupported operand type(s) for +: 'NoneType' and 'str'"
     ]
    }
   ],
   "source": [
    "# Faire une fonction dire_bonjour qui va prendre un paramètre name et qui affiche \"Bonjour [name]\"\n",
    "# Faire une fonction retourne_bonjour qui va prendre un paramètre name et qui retourne \"Bonjour [name]\". \n",
    "# Afficher le résultat de cette deuxième fonction en l'applicant à name=\"Martine\"\n",
    "\n",
    "def dire_bonjour(name):\n",
    "    print(f\"Bonjour {name}\")\n",
    "    \n",
    "dire_bonjour(\"Toto\") + \". A demain\"\n"
   ]
  },
  {
   "cell_type": "code",
   "execution_count": 24,
   "metadata": {},
   "outputs": [
    {
     "name": "stdout",
     "output_type": "stream",
     "text": [
      "ok\n"
     ]
    }
   ],
   "source": [
    "def retourne_bonjour(name):\n",
    "    return f\"Bonjour {name}\"\n",
    "\n",
    "retourne_bonjour(\"Toto\")\n",
    "print(\"ok\")"
   ]
  },
  {
   "cell_type": "code",
   "execution_count": 17,
   "metadata": {},
   "outputs": [
    {
     "name": "stdout",
     "output_type": "stream",
     "text": [
      "Bonjour Toto. A demain\n"
     ]
    }
   ],
   "source": [
    "print(retourne_bonjour(\"Toto\") + \". A demain\")"
   ]
  },
  {
   "cell_type": "code",
   "execution_count": 21,
   "metadata": {},
   "outputs": [],
   "source": [
    "res = retourne_bonjour(\"Toto\") + \". A demain\""
   ]
  },
  {
   "cell_type": "code",
   "execution_count": 22,
   "metadata": {},
   "outputs": [
    {
     "name": "stdout",
     "output_type": "stream",
     "text": [
      "Bonjour Toto. A demain\n"
     ]
    }
   ],
   "source": [
    "print(res)"
   ]
  },
  {
   "cell_type": "code",
   "execution_count": 28,
   "metadata": {},
   "outputs": [
    {
     "name": "stdout",
     "output_type": "stream",
     "text": [
      "Bonjour Olivier\n"
     ]
    }
   ],
   "source": [
    "name = \"Olivier\"\n",
    "\n",
    "def dire_bonjour():\n",
    "    print(f\"Bonjour {name}\")\n",
    "    \n",
    "\n",
    "dire_bonjour()"
   ]
  },
  {
   "cell_type": "code",
   "execution_count": 29,
   "metadata": {},
   "outputs": [
    {
     "name": "stdout",
     "output_type": "stream",
     "text": [
      "Olivier\n",
      "Bonjour Eloise\n",
      "Olivier\n"
     ]
    }
   ],
   "source": [
    "name = \"Olivier\"\n",
    "\n",
    "def dire_bonjour():\n",
    "    name = \"Eloise\"\n",
    "    print(f\"Bonjour {name}\")\n",
    "    \n",
    "\n",
    "print(name)\n",
    "dire_bonjour()\n",
    "print(name)"
   ]
  },
  {
   "cell_type": "code",
   "execution_count": 30,
   "metadata": {},
   "outputs": [
    {
     "name": "stdout",
     "output_type": "stream",
     "text": [
      "Olivier\n"
     ]
    },
    {
     "ename": "UnboundLocalError",
     "evalue": "local variable 'name' referenced before assignment",
     "output_type": "error",
     "traceback": [
      "\u001b[1;31m---------------------------------------------------------------------------\u001b[0m",
      "\u001b[1;31mUnboundLocalError\u001b[0m                         Traceback (most recent call last)",
      "\u001b[1;32m<ipython-input-30-48f1e012e02e>\u001b[0m in \u001b[0;36m<module>\u001b[1;34m\u001b[0m\n\u001b[0;32m      7\u001b[0m \u001b[1;33m\u001b[0m\u001b[0m\n\u001b[0;32m      8\u001b[0m \u001b[0mprint\u001b[0m\u001b[1;33m(\u001b[0m\u001b[0mname\u001b[0m\u001b[1;33m)\u001b[0m\u001b[1;33m\u001b[0m\u001b[1;33m\u001b[0m\u001b[0m\n\u001b[1;32m----> 9\u001b[1;33m \u001b[0mdire_bonjour\u001b[0m\u001b[1;33m(\u001b[0m\u001b[1;33m)\u001b[0m\u001b[1;33m\u001b[0m\u001b[1;33m\u001b[0m\u001b[0m\n\u001b[0m\u001b[0;32m     10\u001b[0m \u001b[0mprint\u001b[0m\u001b[1;33m(\u001b[0m\u001b[0mname\u001b[0m\u001b[1;33m)\u001b[0m\u001b[1;33m\u001b[0m\u001b[1;33m\u001b[0m\u001b[0m\n",
      "\u001b[1;32m<ipython-input-30-48f1e012e02e>\u001b[0m in \u001b[0;36mdire_bonjour\u001b[1;34m()\u001b[0m\n\u001b[0;32m      2\u001b[0m \u001b[1;33m\u001b[0m\u001b[0m\n\u001b[0;32m      3\u001b[0m \u001b[1;32mdef\u001b[0m \u001b[0mdire_bonjour\u001b[0m\u001b[1;33m(\u001b[0m\u001b[1;33m)\u001b[0m\u001b[1;33m:\u001b[0m\u001b[1;33m\u001b[0m\u001b[1;33m\u001b[0m\u001b[0m\n\u001b[1;32m----> 4\u001b[1;33m     \u001b[0mprint\u001b[0m\u001b[1;33m(\u001b[0m\u001b[1;34mf\"Bonjour {name}\"\u001b[0m\u001b[1;33m)\u001b[0m\u001b[1;33m\u001b[0m\u001b[1;33m\u001b[0m\u001b[0m\n\u001b[0m\u001b[0;32m      5\u001b[0m     \u001b[0mname\u001b[0m \u001b[1;33m=\u001b[0m \u001b[1;34m\"Eloise\"\u001b[0m\u001b[1;33m\u001b[0m\u001b[1;33m\u001b[0m\u001b[0m\n\u001b[0;32m      6\u001b[0m \u001b[1;33m\u001b[0m\u001b[0m\n",
      "\u001b[1;31mUnboundLocalError\u001b[0m: local variable 'name' referenced before assignment"
     ]
    }
   ],
   "source": [
    "name = \"Olivier\"\n",
    "\n",
    "def dire_bonjour():\n",
    "    print(f\"Bonjour {name}\")\n",
    "    name = \"Eloise\"\n",
    "    \n",
    "\n",
    "print(name)\n",
    "dire_bonjour()\n",
    "print(name)"
   ]
  },
  {
   "cell_type": "code",
   "execution_count": 31,
   "metadata": {},
   "outputs": [
    {
     "name": "stdout",
     "output_type": "stream",
     "text": [
      "Olivier\n",
      "Bonjour Olivier\n",
      "Eloise\n"
     ]
    }
   ],
   "source": [
    "name = \"Olivier\"\n",
    "\n",
    "def dire_bonjour():\n",
    "    global name\n",
    "    print(f\"Bonjour {name}\")\n",
    "    name = \"Eloise\"\n",
    "    \n",
    "\n",
    "print(name)\n",
    "dire_bonjour()\n",
    "print(name)"
   ]
  },
  {
   "cell_type": "code",
   "execution_count": 13,
   "metadata": {},
   "outputs": [
    {
     "name": "stdout",
     "output_type": "stream",
     "text": [
      "[0, 1, 3, 4, 7, 8]\n",
      "[4, 8, 1, 7, 3, 0]\n"
     ]
    }
   ],
   "source": [
    "# faire une fonction tri_bulle qui prend paramètre une liste\n",
    "# et va renvoyer la liste triée\n",
    "# Pour ce faire, on compare les éléments deux à deux : un élément et le suivant \n",
    "# (on compare a chaque le ième et le (i+1)ème élément)\n",
    "# s'ils sont dans le bon order on les laisse\n",
    "# s'ils ne sont pas en ordre on les inverse\n",
    "\n",
    "# Etapes intermédiaires :\n",
    "# échangez le premier et le deuxième éléments\n",
    "# échangez le ième et le (i+1)ème éléments avec i = 2 (ou autre)\n",
    "\n",
    "\n",
    "# Pour que le résultat soit trié, trouver la suite \n",
    "\n",
    "def tri_bulle(array):\n",
    "    arr = list(array)\n",
    "    for j in range(len(arr)-1):\n",
    "        for i in range(len(arr)-1):\n",
    "            if arr[i] > arr[i+1]:\n",
    "                tmp = arr[i]\n",
    "                arr[i] = arr[i+1]\n",
    "                arr[i+1] = tmp\n",
    "    return arr\n",
    "            \n",
    "liste = [4,8,1,7,3,0]\n",
    "print(tri_bulle(liste))\n",
    "print(liste)"
   ]
  },
  {
   "cell_type": "code",
   "execution_count": 43,
   "metadata": {},
   "outputs": [
    {
     "data": {
      "text/plain": [
       "[8, 7, 4, 3, 1, 0]"
      ]
     },
     "execution_count": 43,
     "metadata": {},
     "output_type": "execute_result"
    }
   ],
   "source": [
    "def croissant(a,b):\n",
    "    return a > b\n",
    "\n",
    "def decroissant(a,b):\n",
    "    return a < b\n",
    "\n",
    "def tri_bulle(arr, ordre):\n",
    "    for j in range(len(arr)-1):\n",
    "        for i in range(len(arr)-1):\n",
    "            if ordre(arr[i], arr[i+1]):\n",
    "                tmp = arr[i]\n",
    "                arr[i] = arr[i+1]\n",
    "                arr[i+1] = tmp\n",
    "    return arr\n",
    "            \n",
    "tri_bulle([4,8,1,7,3,0], decroissant)\n"
   ]
  },
  {
   "cell_type": "code",
   "execution_count": null,
   "metadata": {},
   "outputs": [],
   "source": [
    "# Faire une fonction filtre qui prend une liste en paramètre et un filtre_op (fonction)\n",
    "# La fonction renvoie tous les elements de la liste pour lesquels flitre_op(el) == True\n",
    "\n",
    "def filtre(liste, filtre_op):\n",
    "    return \n",
    "\n",
    "\n",
    "def est_pair(el):\n",
    "    return el % 2 == 0\n",
    "\n",
    "\n",
    "filtre([1,2,4,5,7], est_pair) # [1,2,4]\n"
   ]
  },
  {
   "cell_type": "code",
   "execution_count": 54,
   "metadata": {},
   "outputs": [
    {
     "ename": "AssertionError",
     "evalue": "age doit être supérieur à 30 ans",
     "output_type": "error",
     "traceback": [
      "\u001b[1;31m---------------------------------------------------------------------------\u001b[0m",
      "\u001b[1;31mAssertionError\u001b[0m                            Traceback (most recent call last)",
      "\u001b[1;32m<ipython-input-54-27fdec8f35da>\u001b[0m in \u001b[0;36m<module>\u001b[1;34m\u001b[0m\n\u001b[0;32m      4\u001b[0m     \u001b[0mprint\u001b[0m\u001b[1;33m(\u001b[0m\u001b[1;34m\"Bonjour \"\u001b[0m \u001b[1;33m+\u001b[0m \u001b[0mname\u001b[0m\u001b[1;33m)\u001b[0m\u001b[1;33m\u001b[0m\u001b[1;33m\u001b[0m\u001b[0m\n\u001b[0;32m      5\u001b[0m \u001b[1;33m\u001b[0m\u001b[0m\n\u001b[1;32m----> 6\u001b[1;33m \u001b[0mdire_bonjour\u001b[0m\u001b[1;33m(\u001b[0m\u001b[1;34m\"toto\"\u001b[0m\u001b[1;33m,\u001b[0m \u001b[1;36m25\u001b[0m\u001b[1;33m)\u001b[0m\u001b[1;33m\u001b[0m\u001b[1;33m\u001b[0m\u001b[0m\n\u001b[0m\u001b[0;32m      7\u001b[0m \u001b[0mdire_bonjour\u001b[0m\u001b[1;33m(\u001b[0m\u001b[1;33m[\u001b[0m\u001b[1;36m1\u001b[0m\u001b[1;33m,\u001b[0m\u001b[1;36m4\u001b[0m\u001b[1;33m,\u001b[0m\u001b[1;36m5\u001b[0m\u001b[1;33m]\u001b[0m\u001b[1;33m,\u001b[0m \u001b[1;36m40\u001b[0m\u001b[1;33m)\u001b[0m\u001b[1;33m\u001b[0m\u001b[1;33m\u001b[0m\u001b[0m\n",
      "\u001b[1;32m<ipython-input-54-27fdec8f35da>\u001b[0m in \u001b[0;36mdire_bonjour\u001b[1;34m(name, age)\u001b[0m\n\u001b[0;32m      1\u001b[0m \u001b[1;32mdef\u001b[0m \u001b[0mdire_bonjour\u001b[0m\u001b[1;33m(\u001b[0m\u001b[0mname\u001b[0m\u001b[1;33m,\u001b[0m \u001b[0mage\u001b[0m\u001b[1;33m)\u001b[0m\u001b[1;33m:\u001b[0m\u001b[1;33m\u001b[0m\u001b[1;33m\u001b[0m\u001b[0m\n\u001b[0;32m      2\u001b[0m     \u001b[1;32massert\u001b[0m \u001b[0mtype\u001b[0m\u001b[1;33m(\u001b[0m\u001b[0mname\u001b[0m\u001b[1;33m)\u001b[0m \u001b[1;33m==\u001b[0m \u001b[0mstr\u001b[0m\u001b[1;33m,\u001b[0m \u001b[1;34m\"La paramètre name doit être une str\"\u001b[0m\u001b[1;33m\u001b[0m\u001b[1;33m\u001b[0m\u001b[0m\n\u001b[1;32m----> 3\u001b[1;33m     \u001b[1;32massert\u001b[0m \u001b[0mage\u001b[0m \u001b[1;33m>\u001b[0m \u001b[1;36m30\u001b[0m\u001b[1;33m,\u001b[0m \u001b[1;34m\"age doit être supérieur à 30 ans\"\u001b[0m\u001b[1;33m\u001b[0m\u001b[1;33m\u001b[0m\u001b[0m\n\u001b[0m\u001b[0;32m      4\u001b[0m     \u001b[0mprint\u001b[0m\u001b[1;33m(\u001b[0m\u001b[1;34m\"Bonjour \"\u001b[0m \u001b[1;33m+\u001b[0m \u001b[0mname\u001b[0m\u001b[1;33m)\u001b[0m\u001b[1;33m\u001b[0m\u001b[1;33m\u001b[0m\u001b[0m\n\u001b[0;32m      5\u001b[0m \u001b[1;33m\u001b[0m\u001b[0m\n",
      "\u001b[1;31mAssertionError\u001b[0m: age doit être supérieur à 30 ans"
     ]
    }
   ],
   "source": [
    "def dire_bonjour(name, age):\n",
    "    assert type(name) == str, \"La paramètre name doit être une str\"\n",
    "    assert age > 30, \"age doit être supérieur à 30 ans\"\n",
    "    print(\"Bonjour \" + name)\n",
    "    \n",
    "    \n",
    "dire_bonjour(\"toto\", 25)\n",
    "dire_bonjour([1,4,5], 40)"
   ]
  },
  {
   "cell_type": "code",
   "execution_count": 60,
   "metadata": {},
   "outputs": [
    {
     "name": "stdout",
     "output_type": "stream",
     "text": [
      "Bonjour Mathieu\n",
      "J'ai 40 ans\n",
      "J'habite à Paris\n",
      "Bonjour Mathieu\n",
      "J'ai 45 ans\n",
      "J'habite à Paris\n",
      "Bonjour Mathieu\n",
      "J'ai 45 ans\n",
      "J'habite à Londres\n",
      "Bonjour Mathieu\n",
      "J'ai 45 ans\n",
      "J'habite à Londres\n"
     ]
    }
   ],
   "source": [
    "def dire_bonjour(name, age=45, ville=\"Paris\"):\n",
    "    assert type(name) == str, \"La paramètre name doit être une str\"\n",
    "    assert age > 30, \"age doit être supérieur à 30 ans\"\n",
    "    print(\"Bonjour \" + name)\n",
    "    print(f\"J'ai {age} ans\")\n",
    "    print(f\"J'habite à {ville}\")\n",
    "\n",
    "dire_bonjour(\"Mathieu\", 40)\n",
    "dire_bonjour(\"Mathieu\")\n",
    "dire_bonjour(\"Mathieu\", ville=\"Londres\")\n",
    "dire_bonjour(ville=\"Londres\", name=\"Mathieu\")\n"
   ]
  },
  {
   "cell_type": "code",
   "execution_count": 8,
   "metadata": {},
   "outputs": [
    {
     "name": "stdout",
     "output_type": "stream",
     "text": [
      "{'nom': 'Dupont', 'age': 30}\n",
      "Bonjour Dupont. Tu as 40 ans\n",
      "Bonjour Durand. Tu as 40 ans\n",
      "{'nom': 'Dupont', 'age': 40, 'prenom': 'Albert'}\n"
     ]
    }
   ],
   "source": [
    "personne1 = {\"nom\" : \"Dupont\", \"age\" : 30}\n",
    "toto = {\"nom\" : \"Durand\", \"age\" : 30}\n",
    "\n",
    "def dire_bonjour(personne):\n",
    "    personne[\"age\"] = 40\n",
    "    personne[\"prenom\"] = \"Albert\"\n",
    "    print(f\"Bonjour {personne['nom']}. Tu as {personne['age']} ans\")\n",
    "\n",
    "print(personne1)\n",
    "dire_bonjour(personne1)\n",
    "dire_bonjour(personne = toto)\n",
    "print(personne1)"
   ]
  },
  {
   "cell_type": "code",
   "execution_count": 5,
   "metadata": {},
   "outputs": [
    {
     "name": "stdout",
     "output_type": "stream",
     "text": [
      "Olivier\n",
      "Bonjour Eloise\n",
      "J'ai 40 ans\n",
      "Olivier\n"
     ]
    }
   ],
   "source": [
    "name = \"Olivier\"\n",
    "age = 30\n",
    "\n",
    "def dire_bonjour():\n",
    "    name = \"Eloise\"\n",
    "    age = 40\n",
    "    print(f\"Bonjour {name}\")\n",
    "    print(f\"J'ai {age} ans\")\n",
    "    \n",
    "\n",
    "print(name)\n",
    "dire_bonjour()\n",
    "print(name)"
   ]
  },
  {
   "cell_type": "code",
   "execution_count": 10,
   "metadata": {},
   "outputs": [
    {
     "name": "stdout",
     "output_type": "stream",
     "text": [
      "('Thomas', 50)\n"
     ]
    },
    {
     "ename": "TypeError",
     "evalue": "'tuple' object does not support item assignment",
     "output_type": "error",
     "traceback": [
      "\u001b[1;31m---------------------------------------------------------------------------\u001b[0m",
      "\u001b[1;31mTypeError\u001b[0m                                 Traceback (most recent call last)",
      "\u001b[1;32m<ipython-input-10-f06bc531aabe>\u001b[0m in \u001b[0;36m<module>\u001b[1;34m\u001b[0m\n\u001b[0;32m      6\u001b[0m \u001b[1;33m\u001b[0m\u001b[0m\n\u001b[0;32m      7\u001b[0m \u001b[0mprint\u001b[0m\u001b[1;33m(\u001b[0m\u001b[0mpersonne1\u001b[0m\u001b[1;33m)\u001b[0m\u001b[1;33m\u001b[0m\u001b[1;33m\u001b[0m\u001b[0m\n\u001b[1;32m----> 8\u001b[1;33m \u001b[0mdire_bonjour\u001b[0m\u001b[1;33m(\u001b[0m\u001b[0mpersonne1\u001b[0m\u001b[1;33m)\u001b[0m\u001b[1;33m\u001b[0m\u001b[1;33m\u001b[0m\u001b[0m\n\u001b[0m\u001b[0;32m      9\u001b[0m \u001b[0mprint\u001b[0m\u001b[1;33m(\u001b[0m\u001b[0mpersonne1\u001b[0m\u001b[1;33m)\u001b[0m\u001b[1;33m\u001b[0m\u001b[1;33m\u001b[0m\u001b[0m\n",
      "\u001b[1;32m<ipython-input-10-f06bc531aabe>\u001b[0m in \u001b[0;36mdire_bonjour\u001b[1;34m(personne)\u001b[0m\n\u001b[0;32m      2\u001b[0m \u001b[1;33m\u001b[0m\u001b[0m\n\u001b[0;32m      3\u001b[0m \u001b[1;32mdef\u001b[0m \u001b[0mdire_bonjour\u001b[0m\u001b[1;33m(\u001b[0m\u001b[0mpersonne\u001b[0m\u001b[1;33m)\u001b[0m\u001b[1;33m:\u001b[0m\u001b[1;33m\u001b[0m\u001b[1;33m\u001b[0m\u001b[0m\n\u001b[1;32m----> 4\u001b[1;33m     \u001b[0mpersonne\u001b[0m\u001b[1;33m[\u001b[0m\u001b[1;36m0\u001b[0m\u001b[1;33m]\u001b[0m \u001b[1;33m=\u001b[0m \u001b[1;34m\"Gentil\"\u001b[0m\u001b[1;33m\u001b[0m\u001b[1;33m\u001b[0m\u001b[0m\n\u001b[0m\u001b[0;32m      5\u001b[0m     \u001b[0mprint\u001b[0m\u001b[1;33m(\u001b[0m\u001b[1;34mf\"Bonjour {personne[0]}. Tu as {personne[1]} ans\"\u001b[0m\u001b[1;33m)\u001b[0m\u001b[1;33m\u001b[0m\u001b[1;33m\u001b[0m\u001b[0m\n\u001b[0;32m      6\u001b[0m \u001b[1;33m\u001b[0m\u001b[0m\n",
      "\u001b[1;31mTypeError\u001b[0m: 'tuple' object does not support item assignment"
     ]
    }
   ],
   "source": [
    "personne1 = (\"Thomas\", 50)\n",
    "\n",
    "def dire_bonjour(personne):\n",
    "    personne[0] = \"Gentil\"\n",
    "    print(f\"Bonjour {personne[0]}. Tu as {personne[1]} ans\")\n",
    "\n",
    "print(personne1)\n",
    "dire_bonjour(personne1)\n",
    "print(personne1)"
   ]
  },
  {
   "cell_type": "code",
   "execution_count": null,
   "metadata": {},
   "outputs": [],
   "source": []
  }
 ],
 "metadata": {
  "kernelspec": {
   "display_name": "Python 3",
   "language": "python",
   "name": "python3"
  },
  "language_info": {
   "codemirror_mode": {
    "name": "ipython",
    "version": 3
   },
   "file_extension": ".py",
   "mimetype": "text/x-python",
   "name": "python",
   "nbconvert_exporter": "python",
   "pygments_lexer": "ipython3",
   "version": "3.7.3"
  }
 },
 "nbformat": 4,
 "nbformat_minor": 4
}
