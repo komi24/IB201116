{
 "cells": [
  {
   "cell_type": "code",
   "execution_count": 7,
   "metadata": {},
   "outputs": [
    {
     "data": {
      "text/plain": [
       "['Bonjour', 'Mathieu', \"j'ai\", '36', 'ans']"
      ]
     },
     "execution_count": 7,
     "metadata": {},
     "output_type": "execute_result"
    }
   ],
   "source": [
    "ma_chaine = \"Bonjour Mathieu j'ai 36 ans\"\n",
    "\n",
    "ma_liste = ma_chaine.split(\" \")\n",
    "ma_liste"
   ]
  },
  {
   "cell_type": "code",
   "execution_count": 6,
   "metadata": {},
   "outputs": [
    {
     "data": {
      "text/plain": [
       "\"Bonjour-Mathieu-j'ai-36-ans\""
      ]
     },
     "execution_count": 6,
     "metadata": {},
     "output_type": "execute_result"
    }
   ],
   "source": [
    "\"-\".join(ma_liste)"
   ]
  },
  {
   "cell_type": "code",
   "execution_count": null,
   "metadata": {},
   "outputs": [],
   "source": [
    "ma_chaine = \"Bonjour tout le monde\"\n",
    "# Faire un algo qui inverse les mots de la chaine\n",
    "# resultat : monde le tout Bonjour\n",
    "\n"
   ]
  },
  {
   "cell_type": "code",
   "execution_count": null,
   "metadata": {},
   "outputs": [],
   "source": [
    "# Faire un algo qui inverse les lettres dans les mots de la chaine\n",
    "# resultat : ruojnoB tuot el ednom\n",
    "\n"
   ]
  },
  {
   "cell_type": "code",
   "execution_count": 8,
   "metadata": {},
   "outputs": [],
   "source": [
    "ma_liste = [1,4,7,3,4,9,5]\n",
    "# trouver le produit maximum entre deux nombres consécutifs\n"
   ]
  },
  {
   "cell_type": "code",
   "execution_count": null,
   "metadata": {},
   "outputs": [],
   "source": [
    "ma_liste = [102,4,7,3,4,9,5]\n",
    "# trouver les leaders\n",
    "# cad trouver les nombres dont la somme des nombre qui suivent est inférieur à ce nombre\n",
    "# Est-ce que 1 est surpérieur à 4 + 7 + 3 + 4 + 9 + 5\n"
   ]
  },
  {
   "cell_type": "code",
   "execution_count": null,
   "metadata": {},
   "outputs": [],
   "source": [
    "ma_liste = [1,4,7,3,4,9,5]\n",
    "ma_liste2 = [2,3,17,5,6,8,10]\n",
    "# faire le tableau de la somme des deux listes élément par éléments\n",
    "# resultat [3,7,24,8,10,17,15]\n",
    "# si une liste est plus grande que l'autre on completera avec des zeros"
   ]
  }
 ],
 "metadata": {
  "kernelspec": {
   "display_name": "Python 3",
   "language": "python",
   "name": "python3"
  },
  "language_info": {
   "codemirror_mode": {
    "name": "ipython",
    "version": 3
   },
   "file_extension": ".py",
   "mimetype": "text/x-python",
   "name": "python",
   "nbconvert_exporter": "python",
   "pygments_lexer": "ipython3",
   "version": "3.7.3"
  }
 },
 "nbformat": 4,
 "nbformat_minor": 4
}
