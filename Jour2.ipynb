{
 "cells": [
  {
   "cell_type": "code",
   "execution_count": 7,
   "metadata": {},
   "outputs": [
    {
     "data": {
      "text/plain": [
       "['Bonjour', 'Mathieu', \"j'ai\", '36', 'ans']"
      ]
     },
     "execution_count": 7,
     "metadata": {},
     "output_type": "execute_result"
    }
   ],
   "source": [
    "ma_chaine = \"Bonjour Mathieu j'ai 36 ans\"\n",
    "\n",
    "ma_liste = ma_chaine.split(\" \")\n",
    "ma_liste"
   ]
  },
  {
   "cell_type": "code",
   "execution_count": 6,
   "metadata": {},
   "outputs": [
    {
     "data": {
      "text/plain": [
       "\"Bonjour-Mathieu-j'ai-36-ans\""
      ]
     },
     "execution_count": 6,
     "metadata": {},
     "output_type": "execute_result"
    }
   ],
   "source": [
    "\"-\".join(ma_liste)"
   ]
  },
  {
   "cell_type": "code",
   "execution_count": 13,
   "metadata": {},
   "outputs": [
    {
     "name": "stdout",
     "output_type": "stream",
     "text": [
      "['Bonjour', 'tout', 'le', 'monde']\n"
     ]
    },
    {
     "data": {
      "text/plain": [
       "'monde le tout Bonjour'"
      ]
     },
     "execution_count": 13,
     "metadata": {},
     "output_type": "execute_result"
    }
   ],
   "source": [
    "ma_chaine = \"Bonjour tout le monde\"\n",
    "# Faire un algo qui inverse les mots de la chaine\n",
    "# resultat : monde le tout Bonjour\n",
    "\n",
    "ma_liste = ma_chaine.split(\" \")\n",
    "print(ma_liste)\n",
    "ma_liste = ma_liste[::-1]\n",
    "\" \".join(ma_liste)"
   ]
  },
  {
   "cell_type": "code",
   "execution_count": 15,
   "metadata": {},
   "outputs": [
    {
     "data": {
      "text/plain": [
       "'monde le tout Bonjour'"
      ]
     },
     "execution_count": 15,
     "metadata": {},
     "output_type": "execute_result"
    }
   ],
   "source": [
    "ma_chaine = \"Bonjour tout le monde\"\n",
    "\n",
    "\" \".join(ma_chaine.split(\" \")[::-1])"
   ]
  },
  {
   "cell_type": "code",
   "execution_count": 21,
   "metadata": {},
   "outputs": [
    {
     "name": "stdout",
     "output_type": "stream",
     "text": [
      "['ruojnoB', 'tuot', 'el', 'ednom']\n"
     ]
    },
    {
     "data": {
      "text/plain": [
       "'ruojnoB tuot el ednom'"
      ]
     },
     "execution_count": 21,
     "metadata": {},
     "output_type": "execute_result"
    }
   ],
   "source": [
    "# Faire un algo qui inverse les lettres dans les mots de la chaine\n",
    "# resultat : ruojnoB tuot el ednom\n",
    "\n",
    "ma_chaine = \"Bonjour tout le monde\"\n",
    "ma_liste = ma_chaine.split(\" \")\n",
    "resultat = []\n",
    "for mot in ma_liste:\n",
    "    resultat.append(mot[::-1])\n",
    "print(resultat)\n",
    "resultat = \" \".join(resultat)\n",
    "resultat"
   ]
  },
  {
   "cell_type": "code",
   "execution_count": 23,
   "metadata": {},
   "outputs": [
    {
     "data": {
      "text/plain": [
       "'ruojnoB tuot el ednom'"
      ]
     },
     "execution_count": 23,
     "metadata": {},
     "output_type": "execute_result"
    }
   ],
   "source": [
    "ma_chaine = \"Bonjour tout le monde\"\n",
    "\n",
    "\" \".join([mot[::-1] for mot in ma_chaine.split(\" \")])"
   ]
  },
  {
   "cell_type": "code",
   "execution_count": 37,
   "metadata": {},
   "outputs": [
    {
     "data": {
      "text/plain": [
       "45"
      ]
     },
     "execution_count": 37,
     "metadata": {},
     "output_type": "execute_result"
    }
   ],
   "source": [
    "ma_liste = [1,4,7,3,4,9,5]\n",
    "# trouver le produit maximum entre deux nombres consécutifs\n",
    "\n",
    "produits = []\n",
    "\n",
    "# for i in range(len(ma_liste))\n",
    "for i, nb in enumerate(ma_liste[:-1]):\n",
    "    produits.append(nb * ma_liste[i+1])\n",
    "    \n",
    "max(produits)\n"
   ]
  },
  {
   "cell_type": "code",
   "execution_count": 38,
   "metadata": {},
   "outputs": [
    {
     "data": {
      "text/plain": [
       "45"
      ]
     },
     "execution_count": 38,
     "metadata": {},
     "output_type": "execute_result"
    }
   ],
   "source": [
    "ma_liste = [1,4,7,3,4,9,5]\n",
    "# trouver le produit maximum entre deux nombres consécutifs\n",
    "\n",
    "maximum = None\n",
    "\n",
    "# for i in range(len(ma_liste))\n",
    "for i, nb in enumerate(ma_liste[:-1]):\n",
    "    if maximum is None or maximum < nb * ma_liste[i+1]:\n",
    "        maximum = nb * ma_liste[i+1]\n",
    "\n",
    "maximum"
   ]
  },
  {
   "cell_type": "code",
   "execution_count": 41,
   "metadata": {},
   "outputs": [
    {
     "data": {
      "text/plain": [
       "[102, 9, 5]"
      ]
     },
     "execution_count": 41,
     "metadata": {},
     "output_type": "execute_result"
    }
   ],
   "source": [
    "ma_liste = [102,4,7,3,4,9,5]\n",
    "# trouver les leaders\n",
    "# cad trouver les nombres dont la somme des nombres qui suivent est inférieur à ce nombre\n",
    "# Est-ce que 102 est surpérieur à 4 + 7 + 3 + 4 + 9 + 5\n",
    "\n",
    "leaders = []\n",
    "for i, nb in enumerate(ma_liste):\n",
    "    if nb > sum(ma_liste[i+1:]):\n",
    "        leaders.append(nb)\n",
    "        \n",
    "leaders"
   ]
  },
  {
   "cell_type": "code",
   "execution_count": 46,
   "metadata": {},
   "outputs": [
    {
     "data": {
      "text/plain": [
       "[3, 7, 24, 8, 10, 17, 15, 3, 4]"
      ]
     },
     "execution_count": 46,
     "metadata": {},
     "output_type": "execute_result"
    }
   ],
   "source": [
    "ma_liste = [1,4,7,3,4,9,5]\n",
    "ma_liste2 = [2,3,17,5,6,8,10,3,4]\n",
    "# faire le tableau de la somme des deux listes élément par éléments\n",
    "# resultat [3,7,24,8,10,17,15]\n",
    "# si une liste est plus grande que l'autre on completera avec des zeros\n",
    "resultat = []\n",
    "for i in range(max(len(ma_liste), len(ma_liste2))):\n",
    "    a = ma_liste[i] if i < len(ma_liste) else 0\n",
    "    b = ma_liste2[i] if i < len(ma_liste2) else 0\n",
    "    resultat.append(a + b)\n",
    "    \n",
    "resultat"
   ]
  },
  {
   "cell_type": "code",
   "execution_count": 55,
   "metadata": {},
   "outputs": [
    {
     "name": "stdout",
     "output_type": "stream",
     "text": [
      "a = 1 et b = 2\n",
      "a = 4 et b = 3\n",
      "a = 7 et b = 17\n",
      "a = 3 et b = 5\n",
      "a = 4 et b = 6\n",
      "a = 9 et b = 8\n",
      "a = 5 et b = 10\n",
      "a = 0 et b = 3\n",
      "a = 0 et b = 4\n"
     ]
    },
    {
     "data": {
      "text/plain": [
       "[3, 7, 24, 8, 10, 17, 15, 3, 4]"
      ]
     },
     "execution_count": 55,
     "metadata": {},
     "output_type": "execute_result"
    }
   ],
   "source": [
    "ma_liste = [1,4,7,3,4,9,5]\n",
    "ma_liste2 = [2,3,17,5,6,8,10,3,4]\n",
    "# faire le tableau de la somme des deux listes élément par éléments\n",
    "# resultat [3,7,24,8,10,17,15]\n",
    "# si une liste est plus grande que l'autre on completera avec des zeros\n",
    "if len(ma_liste) < len(ma_liste2):\n",
    "    ma_liste += [0] * (len(ma_liste2) - len(ma_liste))\n",
    "else:\n",
    "    ma_liste2 += [0] * (len(ma_liste) - len(ma_liste2))\n",
    "\n",
    "resultat = []\n",
    "for a,b in zip(ma_liste, ma_liste2):\n",
    "    print(f\"a = {a} et b = {b}\")\n",
    "    resultat.append(a + b)\n",
    "resultat"
   ]
  },
  {
   "cell_type": "code",
   "execution_count": 60,
   "metadata": {},
   "outputs": [
    {
     "name": "stdout",
     "output_type": "stream",
     "text": [
      "a = 1 et b = 2\n",
      "a = 4 et b = 3\n",
      "a = 7 et b = 17\n",
      "a = 3 et b = 5\n",
      "a = 4 et b = 6\n",
      "a = 9 et b = 8\n",
      "a = 5 et b = 10\n",
      "a = 0 et b = 3\n",
      "a = 0 et b = 4\n"
     ]
    },
    {
     "data": {
      "text/plain": [
       "[3, 7, 24, 8, 10, 17, 15, 3, 4]"
      ]
     },
     "execution_count": 60,
     "metadata": {},
     "output_type": "execute_result"
    }
   ],
   "source": [
    "from itertools import zip_longest\n",
    "\n",
    "ma_liste = [1,4,7,3,4,9,5]\n",
    "ma_liste2 = [2,3,17,5,6,8,10,3,4]\n",
    "# faire le tableau de la somme des deux listes élément par éléments\n",
    "# resultat [3,7,24,8,10,17,15]\n",
    "# si une liste est plus grande que l'autre on completera avec des zeros\n",
    "\n",
    "resultat = []\n",
    "for a,b in zip_longest(ma_liste, ma_liste2, fillvalue=0):\n",
    "    print(f\"a = {a} et b = {b}\")\n",
    "    resultat.append(a + b)\n",
    "resultat"
   ]
  },
  {
   "cell_type": "code",
   "execution_count": 58,
   "metadata": {},
   "outputs": [
    {
     "name": "stdout",
     "output_type": "stream",
     "text": [
      "a = 1 et b = 2\n",
      "a = 1 et b = 3\n",
      "a = 4 et b = 2\n",
      "a = 4 et b = 3\n"
     ]
    }
   ],
   "source": [
    "from itertools import product\n",
    "\n",
    "for a, b in product(ma_liste[:2], ma_liste2[:2]):\n",
    "    print(f\"a = {a} et b = {b}\")"
   ]
  },
  {
   "cell_type": "code",
   "execution_count": 50,
   "metadata": {},
   "outputs": [
    {
     "data": {
      "text/plain": [
       "[4, 5, 11]"
      ]
     },
     "execution_count": 50,
     "metadata": {},
     "output_type": "execute_result"
    }
   ],
   "source": [
    "ma_liste = [4,5]\n",
    "\n",
    "ma_liste.append(4+7)\n",
    "ma_liste"
   ]
  },
  {
   "cell_type": "code",
   "execution_count": null,
   "metadata": {},
   "outputs": [],
   "source": [
    "def fusion(arr1, arr2):\n",
    "    \"\"\"\n",
    "        retourne un tableau trié avec arr1 et arr2 (qui sont déjà triés)\n",
    "    \"\"\"\n",
    "    return arr\n",
    "\n",
    "def tri_fusion(array):\n",
    "    if len(array) < 2:\n",
    "        # return array\n",
    "    elif len(array) == 2:\n",
    "        # return array ou son inverse (pour retourner une liste triée)\n",
    "    else:\n",
    "        # appliquer le tri sur les deux moitiers de la liste => arr1 et arr2 \n",
    "        # retourner une fusion de arr1 et arr2"
   ]
  },
  {
   "cell_type": "code",
   "execution_count": null,
   "metadata": {},
   "outputs": [],
   "source": [
    "fusion([1,5,8], [2,4,9])\n",
    "# 1,2,4,5,8,9\n"
   ]
  },
  {
   "cell_type": "code",
   "execution_count": 31,
   "metadata": {},
   "outputs": [
    {
     "name": "stdout",
     "output_type": "stream",
     "text": [
      "1\n",
      "[4, 6, 7]\n"
     ]
    }
   ],
   "source": [
    "a, *arr = [1, 4, 6, 7]\n",
    "\n",
    "print(a)\n",
    "print(arr)"
   ]
  },
  {
   "cell_type": "code",
   "execution_count": 35,
   "metadata": {},
   "outputs": [
    {
     "data": {
      "text/plain": [
       "20"
      ]
     },
     "execution_count": 35,
     "metadata": {},
     "output_type": "execute_result"
    }
   ],
   "source": [
    "ma_liste = [1,5,8,4,3]\n",
    "sum(ma_liste[1:5])"
   ]
  },
  {
   "cell_type": "code",
   "execution_count": null,
   "metadata": {},
   "outputs": [],
   "source": []
  }
 ],
 "metadata": {
  "kernelspec": {
   "display_name": "Python 3",
   "language": "python",
   "name": "python3"
  },
  "language_info": {
   "codemirror_mode": {
    "name": "ipython",
    "version": 3
   },
   "file_extension": ".py",
   "mimetype": "text/x-python",
   "name": "python",
   "nbconvert_exporter": "python",
   "pygments_lexer": "ipython3",
   "version": "3.7.3"
  }
 },
 "nbformat": 4,
 "nbformat_minor": 4
}
