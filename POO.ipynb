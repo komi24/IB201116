{
 "cells": [
  {
   "cell_type": "code",
   "execution_count": 35,
   "metadata": {},
   "outputs": [],
   "source": [
    "class Person:\n",
    "    def __init__(self, prenom, age=42):\n",
    "        self.firstname = prenom\n",
    "        self.lastname = \"Coelho\"\n",
    "        self.age = age\n",
    "        \n",
    "    def greet(self):\n",
    "        print(f\"Hello, I am {self.firstname}. I am {self.age} y.o.\")\n"
   ]
  },
  {
   "cell_type": "code",
   "execution_count": 36,
   "metadata": {},
   "outputs": [
    {
     "name": "stdout",
     "output_type": "stream",
     "text": [
      "Hello, I am Daniela. I am 42 y.o.\n",
      "Hello, I am Norah. I am 36 y.o.\n"
     ]
    }
   ],
   "source": [
    "someone = Person(\"Daniela\")\n",
    "someone_else = Person(\"Norah\", 36)\n",
    "# someone_else.firstname = \"Norah\"\n",
    "# print(une_personne.firstname)\n",
    "# mon_voisin = Personne()\n",
    "# print(mon_voisin.firstname)\n",
    "# print(une_personne == mon_voisin)\n",
    "\n",
    "# une_personne.firstname = \"Joao\"\n",
    "# print(une_personne.firstname)\n",
    "# print(mon_voisin.firstname)\n",
    "\n",
    "someone.greet()\n",
    "someone_else.greet()"
   ]
  },
  {
   "cell_type": "code",
   "execution_count": 9,
   "metadata": {},
   "outputs": [
    {
     "name": "stdout",
     "output_type": "stream",
     "text": [
      "<__main__.Personne object at 0x000002D4535F1400>\n"
     ]
    }
   ],
   "source": [
    "print(une_personne)"
   ]
  },
  {
   "cell_type": "code",
   "execution_count": 10,
   "metadata": {},
   "outputs": [
    {
     "data": {
      "text/plain": [
       "{'firstname': 'Daniela', 'lastname': 'Coelho', 'age': 30}"
      ]
     },
     "execution_count": 10,
     "metadata": {},
     "output_type": "execute_result"
    }
   ],
   "source": [
    "def creer_personne():\n",
    "    return {\"firstname\": \"Daniela\", \"lastname\": \"Coelho\", \"age\": 30 }\n",
    "\n",
    "creer_personne()"
   ]
  },
  {
   "cell_type": "code",
   "execution_count": 70,
   "metadata": {},
   "outputs": [],
   "source": [
    "from functools import total_ordering \n",
    "\"\"\"\n",
    "    Faire une classe Car\n",
    "    attribut:\n",
    "        - color: initialisé avec un paramètre obligatoire de __init__\n",
    "        - maximum_speed: initialisé avec un paramètre optionnel (default 120)\n",
    "        - brand: initialisé avec un paramètre\n",
    "        - origin: initialisé à FRANCE\n",
    "        - position: initialisée à 0\n",
    "    methode:\n",
    "        - move_forward: augmente la position de 1\n",
    "        - move_backward: dimininue la position de 1\n",
    "        - get_position: renvoie la position\n",
    "        \n",
    "    créer deux voitures que vous faites avancer et reculer\n",
    "\"\"\"\n",
    "@total_ordering\n",
    "class Car:\n",
    "    def __init__(self, color_param, brand_param, owner_param, max_speed_param = 120):\n",
    "        self.color = color_param\n",
    "        self.brand = brand_param\n",
    "        self.max_speed = max_speed_param\n",
    "        self.origin = \"FRANCE\"\n",
    "        self.position = 0\n",
    "        self.owner = owner_param\n",
    "        \n",
    "    def get_color(self):\n",
    "        return self.color\n",
    "\n",
    "    def move_forward(self):\n",
    "        self.position += 1\n",
    "    \n",
    "    def move_backward(self):\n",
    "        self.position -= 1\n",
    "        \n",
    "    def get_position(self):\n",
    "        return self.position\n",
    "    \n",
    "    def __repr__(self):\n",
    "        return f\"Car: {self.brand} - position : {self.position}\"\n",
    "    \n",
    "    def __gt__(self, other):\n",
    "        return self.position > other.position\n",
    "    \n",
    "    def __eq__(self, other):\n",
    "        return self.position == other.position\n",
    "    \n",
    "class Person:\n",
    "    def __init__(self, name=\"Martin\", age=20):\n",
    "        self.age = age\n",
    "        self.name = name\n",
    "        \n",
    "    def __lt__(self, other):\n",
    "        return self.age < other.age\n",
    "\n",
    "    def __eq__(self, other):\n",
    "        return self.age == other.age\n",
    "\n"
   ]
  },
  {
   "cell_type": "code",
   "execution_count": 71,
   "metadata": {},
   "outputs": [
    {
     "name": "stdout",
     "output_type": "stream",
     "text": [
      "black FRANCE\n",
      "rouge\n",
      "Car: Mercedes - position : 0\n",
      "Car: Mercedes - position : 1\n"
     ]
    }
   ],
   "source": [
    "p1 = Person()\n",
    "p2 = Person(\"Magalie\", 42)\n",
    "\n",
    "my_car = Car(\"black\", \"Mercedes\", p1)\n",
    "another_car = Car(\"rouge\", \"Renault\", p2)\n",
    "\n",
    "print(my_car.color, my_car.origin)\n",
    "print(another_car.color)\n",
    "print(my_car)\n",
    "my_car.move_forward()\n",
    "print(my_car)"
   ]
  },
  {
   "cell_type": "code",
   "execution_count": 74,
   "metadata": {},
   "outputs": [
    {
     "name": "stdout",
     "output_type": "stream",
     "text": [
      "Martin\n",
      "42\n"
     ]
    }
   ],
   "source": [
    "print(my_car.owner.name)\n",
    "print(another_car.owner.age)"
   ]
  },
  {
   "cell_type": "code",
   "execution_count": 66,
   "metadata": {},
   "outputs": [
    {
     "name": "stdout",
     "output_type": "stream",
     "text": [
      "Car: Mercedes - position : 1\n",
      "Car: Renault - position : 3\n",
      "My car est derrière\n"
     ]
    }
   ],
   "source": [
    "another_car.move_forward()\n",
    "another_car.move_forward()\n",
    "another_car.move_forward()\n",
    "print(my_car)\n",
    "print(another_car)\n",
    "\n",
    "if my_car > another_car:\n",
    "    print(\"My car est devant\")\n",
    "else:\n",
    "    print(\"My car est derrière\")\n",
    "\n",
    "if my_car > another_car:\n",
    "    \n",
    "if my_car.__gt__(another_car):\n",
    "    print()\n",
    "else:\n",
    "    print()"
   ]
  },
  {
   "cell_type": "code",
   "execution_count": 67,
   "metadata": {},
   "outputs": [
    {
     "data": {
      "text/plain": [
       "Car: Renault - position : 3"
      ]
     },
     "execution_count": 67,
     "metadata": {},
     "output_type": "execute_result"
    }
   ],
   "source": [
    "max(my_car, another_car)"
   ]
  },
  {
   "cell_type": "code",
   "execution_count": 68,
   "metadata": {},
   "outputs": [
    {
     "data": {
      "text/plain": [
       "False"
      ]
     },
     "execution_count": 68,
     "metadata": {},
     "output_type": "execute_result"
    }
   ],
   "source": [
    "\"\"\"\n",
    "    classe Person name et age\n",
    "    et une relation d'ordre sur l'age entre les Person\n",
    "\"\"\"\n",
    "class Person:\n",
    "    def __init__(self, name=\"Martin\", age=20):\n",
    "        self.age = age\n",
    "        self.name = name\n",
    "        \n",
    "    def __lt__(self, other):\n",
    "        return self.age < other.age\n",
    "\n",
    "    def __eq__(self, other):\n",
    "        return self.age == other.age\n",
    "\n",
    "p1 = Person()\n",
    "p2 = Person(\"Magalie\", 45)\n",
    "\n",
    "p1 > p2"
   ]
  },
  {
   "cell_type": "code",
   "execution_count": 76,
   "metadata": {},
   "outputs": [
    {
     "name": "stdout",
     "output_type": "stream",
     "text": [
      "1200\n",
      "-800\n"
     ]
    }
   ],
   "source": [
    "\"\"\"\n",
    "    Créer une classe Account\n",
    "    attributs:\n",
    "        - balance\n",
    "        - owner\n",
    "    methodes:\n",
    "        - withdraw: retirer un montant (qu'on a passé en paramètre) de balance \n",
    "        - deposit: ajouter un montant à l'attribut balance\n",
    "\"\"\"\n",
    "\n",
    "class Account:\n",
    "    def __init__(self, balance=100000):\n",
    "        self.balance = balance\n",
    "        \n",
    "    def withdraw(self, amount):\n",
    "        self.balance -= amount\n",
    "    \n",
    "    def deposit(self, amount):\n",
    "        self.balance += amount\n",
    "        \n",
    "compte = Account(1000)\n",
    "\n",
    "compte.deposit(200)\n",
    "print(compte.balance)\n",
    "compte.withdraw(2000)\n",
    "print(compte.balance)\n",
    "        "
   ]
  },
  {
   "cell_type": "code",
   "execution_count": 79,
   "metadata": {},
   "outputs": [
    {
     "name": "stdout",
     "output_type": "stream",
     "text": [
      "False\n"
     ]
    }
   ],
   "source": [
    "\"\"\"\n",
    "    classe Person name et age\n",
    "    et une relation d'ordre sur l'age entre les Person\n",
    "    \n",
    "    * Quand on crée elle va avoir un compte avec 10000 dessus\n",
    "    \n",
    "    * Changer les comparaisons pour comparer les personnes en fonction du solde de leur compte\n",
    "\"\"\"\n",
    "class Person:\n",
    "    def __init__(self, name=\"Martin\", age=20):\n",
    "        self.age = age\n",
    "        self.name = name\n",
    "        self.account = Account(10000)\n",
    "        \n",
    "    def __lt__(self, other):\n",
    "        return self.account.balance < other.account.balance\n",
    "\n",
    "    def __eq__(self, other):\n",
    "        return self.account.balance == other.account.balance\n",
    "\n",
    "p1 = Person()\n",
    "p2 = Person(\"Magalie\", 45)\n",
    "\n",
    "print(p2 > p1)"
   ]
  },
  {
   "cell_type": "code",
   "execution_count": 81,
   "metadata": {},
   "outputs": [
    {
     "name": "stdout",
     "output_type": "stream",
     "text": [
      "True\n"
     ]
    }
   ],
   "source": [
    "p1.account.withdraw(2000000)\n",
    "print(p2 > p1)"
   ]
  },
  {
   "cell_type": "code",
   "execution_count": null,
   "metadata": {},
   "outputs": [],
   "source": [
    "# asser sur les valeurs negatives\n",
    "# heritage avec CompteCheque et COmpteEpargne"
   ]
  }
 ],
 "metadata": {
  "kernelspec": {
   "display_name": "Python 3",
   "language": "python",
   "name": "python3"
  },
  "language_info": {
   "codemirror_mode": {
    "name": "ipython",
    "version": 3
   },
   "file_extension": ".py",
   "mimetype": "text/x-python",
   "name": "python",
   "nbconvert_exporter": "python",
   "pygments_lexer": "ipython3",
   "version": "3.7.3"
  }
 },
 "nbformat": 4,
 "nbformat_minor": 4
}
