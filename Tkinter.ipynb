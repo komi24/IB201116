{
 "cells": [
  {
   "cell_type": "code",
   "execution_count": 27,
   "metadata": {},
   "outputs": [
    {
     "name": "stdout",
     "output_type": "stream",
     "text": [
      "avant\n",
      "après\n"
     ]
    }
   ],
   "source": [
    "from tkinter import Tk, Button, Label, LEFT, RIGHT, TOP, BOTTOM\n",
    "\n",
    "\n",
    "fen = Tk()\n",
    "\n",
    "label = Label(fen, text=\"Bonjour\")\n",
    "label2 = Label(fen, text=\"Hello\")\n",
    "button1 = Button(fen, text=\"Bouton 1\")\n",
    "button2 = Button(fen, text=\"Bouton 2\")\n",
    "\n",
    "\n",
    "button2.pack()\n",
    "button1.pack(side=LEFT)\n",
    "label.pack(side=BOTTOM)\n",
    "label2.pack()\n",
    "\n",
    "print(\"avant\")\n",
    "fen.mainloop()\n",
    "print(\"après\")\n"
   ]
  },
  {
   "cell_type": "code",
   "execution_count": 29,
   "metadata": {},
   "outputs": [
    {
     "name": "stdout",
     "output_type": "stream",
     "text": [
      "avant\n",
      "après\n"
     ]
    }
   ],
   "source": [
    "from tkinter import Tk, Button, Label, LEFT, RIGHT, TOP, BOTTOM\n",
    "\n",
    "\n",
    "fen = Tk()\n",
    "\n",
    "button1 = Button(fen, text=\"Bouton 1\")\n",
    "button2 = Button(fen, text=\"Bouton 2\")\n",
    "\n",
    "\n",
    "button1.grid(column=10, row=10)\n",
    "button2.grid(column=11, row=11)\n",
    "\n",
    "print(\"avant\")\n",
    "fen.mainloop()\n",
    "print(\"après\")\n"
   ]
  },
  {
   "cell_type": "code",
   "execution_count": 14,
   "metadata": {},
   "outputs": [
    {
     "name": "stdout",
     "output_type": "stream",
     "text": [
      "avant\n",
      "après\n"
     ]
    }
   ],
   "source": [
    "from tkinter import Tk, Button, Label, LEFT, RIGHT, TOP, BOTTOM\n",
    "\n",
    "\n",
    "fen = Tk()\n",
    "\n",
    "button1 = Button(fen, text=\"Bouton 1\", padx=2, pady=10, height=16, width=9)\n",
    "button2 = Button(fen, text=\"Bouton 2\")\n",
    "\n",
    "\n",
    "button1.grid(column=0, row=0)\n",
    "button2.grid(column=1, row=1)\n",
    "\n",
    "print(\"avant\")\n",
    "fen.mainloop()\n",
    "print(\"après\")\n"
   ]
  },
  {
   "cell_type": "code",
   "execution_count": 58,
   "metadata": {},
   "outputs": [
    {
     "ename": "SyntaxError",
     "evalue": "invalid syntax (<ipython-input-58-35ff405f5b60>, line 36)",
     "output_type": "error",
     "traceback": [
      "\u001b[1;36m  File \u001b[1;32m\"<ipython-input-58-35ff405f5b60>\"\u001b[1;36m, line \u001b[1;32m36\u001b[0m\n\u001b[1;33m    print(\"avant\")from tkinter import Tk, Frame, Button, Label, LEFT, RIGHT, TOP, BOTTOM\u001b[0m\n\u001b[1;37m                     ^\u001b[0m\n\u001b[1;31mSyntaxError\u001b[0m\u001b[1;31m:\u001b[0m invalid syntax\n"
     ]
    }
   ],
   "source": [
    "from tkinter import Tk, Frame, Button, Label, LEFT, RIGHT, TOP, BOTTOM\n",
    "\n",
    "\n",
    "fen = Tk()\n",
    "\n",
    "label = Label(fen, text=\"Calculator\", height=5)\n",
    "label.pack()\n",
    "\n",
    "button = Button(fen, text=\"=\", height=5)\n",
    "button.pack(side=BOTTOM, fill=\"both\")\n",
    "\n",
    "button_ce = Button(fen, text=\"CE\", width=9)\n",
    "button_ce.pack(side=RIGHT, fill=\"both\")\n",
    "\n",
    "frame_op = Frame(fen)\n",
    "frame_op.pack(side=RIGHT)\n",
    "\n",
    "for op in (\"+\", \"-\", \"*\", \"/\"):\n",
    "    button1 = Button(frame_op, text=op, height=5, width=9)\n",
    "    button1.pack()\n",
    "\n",
    "frame_nb = Frame(fen)\n",
    "frame_nb.pack()\n",
    "\n",
    "for i in range(9):\n",
    "    button1 = Button(frame_nb, text=f\"{i+1}\", height=5, width=9)\n",
    "    button1.grid(row=i%3, column=i//3)\n",
    "\n",
    "button_zero = Button(frame_nb, text=\"0\", height=5, width=9)\n",
    "button_zero.grid(row=3, column=0)\n",
    "\n",
    "button_dot = Button(frame_nb, text=\".\", height=5)\n",
    "button_dot.grid(row=3, column=1, columnspan=2, sticky=\"ew\")\n",
    "\n",
    "\n",
    "print(\"avant\")\n",
    "fen.mainloop()\n",
    "print(\"après\")\n"
   ]
  },
  {
   "cell_type": "code",
   "execution_count": 70,
   "metadata": {},
   "outputs": [
    {
     "name": "stdout",
     "output_type": "stream",
     "text": [
      "avant\n",
      "1\n",
      "4\n",
      "2\n",
      "6\n",
      "3\n",
      "7\n",
      "9\n",
      "après\n"
     ]
    }
   ],
   "source": [
    "from tkinter import Tk, Frame, Button, Label, LEFT, RIGHT, TOP, BOTTOM, StringVar\n",
    "\n",
    "\n",
    "fen = Tk()\n",
    "\n",
    "resultat = StringVar()\n",
    "resultat.set(\"0\")\n",
    "\n",
    "def change_resultat(e):\n",
    "    print(e.widget.cget(\"text\"))\n",
    "    resultat.set(e.widget.cget(\"text\"))\n",
    "\n",
    "label = Label(fen, textvariable=resultat, height=5)\n",
    "label.pack()\n",
    "\n",
    "button = Button(fen, text=\"=\", height=5)\n",
    "button.bind(\"<Button-1>\", change_resultat)\n",
    "button.pack(side=BOTTOM, fill=\"both\")\n",
    "\n",
    "button_ce = Button(fen, text=\"CE\", width=9)\n",
    "button_ce.pack(side=RIGHT, fill=\"both\")\n",
    "\n",
    "frame_op = Frame(fen)\n",
    "frame_op.pack(side=RIGHT)\n",
    "\n",
    "for op in (\"+\", \"-\", \"*\", \"/\"):\n",
    "    button1 = Button(frame_op, text=op, height=5, width=9)\n",
    "    button1.bind(\"<Button-1>\", change_resultat)\n",
    "    button1.pack()\n",
    "\n",
    "frame_nb = Frame(fen)\n",
    "frame_nb.pack()\n",
    "\n",
    "for i in range(9):\n",
    "    button1 = Button(frame_nb, text=f\"{i+1}\", height=5, width=9)\n",
    "    button1.bind(\"<Button-1>\", change_resultat)\n",
    "    button1.grid(row=i%3, column=i//3)\n",
    "\n",
    "button_zero = Button(fen, text=\"0\", height=5, width=9)\n",
    "button_zero.pack(side=LEFT)\n",
    "\n",
    "button_dot = Button(fen, text=\".\", height=5)\n",
    "button_dot.pack(fill=\"both\")\n",
    "\n",
    "resultat.set(\"15\")\n",
    "print(\"avant\")\n",
    "fen.mainloop()\n",
    "print(\"après\")\n",
    "\n"
   ]
  },
  {
   "cell_type": "code",
   "execution_count": null,
   "metadata": {},
   "outputs": [],
   "source": []
  }
 ],
 "metadata": {
  "kernelspec": {
   "display_name": "Python 3",
   "language": "python",
   "name": "python3"
  },
  "language_info": {
   "codemirror_mode": {
    "name": "ipython",
    "version": 3
   },
   "file_extension": ".py",
   "mimetype": "text/x-python",
   "name": "python",
   "nbconvert_exporter": "python",
   "pygments_lexer": "ipython3",
   "version": "3.7.3"
  }
 },
 "nbformat": 4,
 "nbformat_minor": 4
}
